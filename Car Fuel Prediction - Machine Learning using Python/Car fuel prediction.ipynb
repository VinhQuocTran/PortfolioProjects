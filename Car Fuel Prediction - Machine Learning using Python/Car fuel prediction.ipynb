{
 "cells": [
  {
   "cell_type": "code",
   "execution_count": 46,
   "id": "bdd627e0",
   "metadata": {},
   "outputs": [],
   "source": [
    "# Import needed libraries\n",
    "import pandas as pd\n",
    "import numpy as np\n",
    "import seaborn as sns\n",
    "import matplotlib.pyplot as plt"
   ]
  },
  {
   "cell_type": "code",
   "execution_count": 47,
   "id": "45e5ff23",
   "metadata": {},
   "outputs": [],
   "source": [
    "# Import data from auto-mpg\n",
    "fileName='auto-mpg.csv'\n",
    "df = pd.read_csv(fileName, sep=',',na_values='?')  "
   ]
  },
  {
   "cell_type": "code",
   "execution_count": 48,
   "id": "f789cecb",
   "metadata": {
    "scrolled": true
   },
   "outputs": [
    {
     "name": "stdout",
     "output_type": "stream",
     "text": [
      "<class 'pandas.core.frame.DataFrame'>\n",
      "RangeIndex: 398 entries, 0 to 397\n",
      "Data columns (total 9 columns):\n",
      " #   Column        Non-Null Count  Dtype  \n",
      "---  ------        --------------  -----  \n",
      " 0   mpg           398 non-null    float64\n",
      " 1   cylinders     398 non-null    int64  \n",
      " 2   displacement  398 non-null    float64\n",
      " 3   horsepower    392 non-null    float64\n",
      " 4   weight        398 non-null    int64  \n",
      " 5   acceleration  398 non-null    float64\n",
      " 6   model year    398 non-null    int64  \n",
      " 7   origin        398 non-null    int64  \n",
      " 8   car name      398 non-null    object \n",
      "dtypes: float64(4), int64(4), object(1)\n",
      "memory usage: 28.1+ KB\n"
     ]
    },
    {
     "data": {
      "text/html": [
       "<div>\n",
       "<style scoped>\n",
       "    .dataframe tbody tr th:only-of-type {\n",
       "        vertical-align: middle;\n",
       "    }\n",
       "\n",
       "    .dataframe tbody tr th {\n",
       "        vertical-align: top;\n",
       "    }\n",
       "\n",
       "    .dataframe thead th {\n",
       "        text-align: right;\n",
       "    }\n",
       "</style>\n",
       "<table border=\"1\" class=\"dataframe\">\n",
       "  <thead>\n",
       "    <tr style=\"text-align: right;\">\n",
       "      <th></th>\n",
       "      <th>mpg</th>\n",
       "      <th>cylinders</th>\n",
       "      <th>displacement</th>\n",
       "      <th>horsepower</th>\n",
       "      <th>weight</th>\n",
       "      <th>acceleration</th>\n",
       "      <th>model year</th>\n",
       "      <th>origin</th>\n",
       "    </tr>\n",
       "  </thead>\n",
       "  <tbody>\n",
       "    <tr>\n",
       "      <th>count</th>\n",
       "      <td>398.000000</td>\n",
       "      <td>398.000000</td>\n",
       "      <td>398.000000</td>\n",
       "      <td>392.000000</td>\n",
       "      <td>398.000000</td>\n",
       "      <td>398.000000</td>\n",
       "      <td>398.000000</td>\n",
       "      <td>398.000000</td>\n",
       "    </tr>\n",
       "    <tr>\n",
       "      <th>mean</th>\n",
       "      <td>23.514573</td>\n",
       "      <td>5.454774</td>\n",
       "      <td>193.425879</td>\n",
       "      <td>104.469388</td>\n",
       "      <td>2970.424623</td>\n",
       "      <td>15.568090</td>\n",
       "      <td>76.010050</td>\n",
       "      <td>1.572864</td>\n",
       "    </tr>\n",
       "    <tr>\n",
       "      <th>std</th>\n",
       "      <td>7.815984</td>\n",
       "      <td>1.701004</td>\n",
       "      <td>104.269838</td>\n",
       "      <td>38.491160</td>\n",
       "      <td>846.841774</td>\n",
       "      <td>2.757689</td>\n",
       "      <td>3.697627</td>\n",
       "      <td>0.802055</td>\n",
       "    </tr>\n",
       "    <tr>\n",
       "      <th>min</th>\n",
       "      <td>9.000000</td>\n",
       "      <td>3.000000</td>\n",
       "      <td>68.000000</td>\n",
       "      <td>46.000000</td>\n",
       "      <td>1613.000000</td>\n",
       "      <td>8.000000</td>\n",
       "      <td>70.000000</td>\n",
       "      <td>1.000000</td>\n",
       "    </tr>\n",
       "    <tr>\n",
       "      <th>25%</th>\n",
       "      <td>17.500000</td>\n",
       "      <td>4.000000</td>\n",
       "      <td>104.250000</td>\n",
       "      <td>75.000000</td>\n",
       "      <td>2223.750000</td>\n",
       "      <td>13.825000</td>\n",
       "      <td>73.000000</td>\n",
       "      <td>1.000000</td>\n",
       "    </tr>\n",
       "    <tr>\n",
       "      <th>50%</th>\n",
       "      <td>23.000000</td>\n",
       "      <td>4.000000</td>\n",
       "      <td>148.500000</td>\n",
       "      <td>93.500000</td>\n",
       "      <td>2803.500000</td>\n",
       "      <td>15.500000</td>\n",
       "      <td>76.000000</td>\n",
       "      <td>1.000000</td>\n",
       "    </tr>\n",
       "    <tr>\n",
       "      <th>75%</th>\n",
       "      <td>29.000000</td>\n",
       "      <td>8.000000</td>\n",
       "      <td>262.000000</td>\n",
       "      <td>126.000000</td>\n",
       "      <td>3608.000000</td>\n",
       "      <td>17.175000</td>\n",
       "      <td>79.000000</td>\n",
       "      <td>2.000000</td>\n",
       "    </tr>\n",
       "    <tr>\n",
       "      <th>max</th>\n",
       "      <td>46.600000</td>\n",
       "      <td>8.000000</td>\n",
       "      <td>455.000000</td>\n",
       "      <td>230.000000</td>\n",
       "      <td>5140.000000</td>\n",
       "      <td>24.800000</td>\n",
       "      <td>82.000000</td>\n",
       "      <td>3.000000</td>\n",
       "    </tr>\n",
       "  </tbody>\n",
       "</table>\n",
       "</div>"
      ],
      "text/plain": [
       "              mpg   cylinders  displacement  horsepower       weight  \\\n",
       "count  398.000000  398.000000    398.000000  392.000000   398.000000   \n",
       "mean    23.514573    5.454774    193.425879  104.469388  2970.424623   \n",
       "std      7.815984    1.701004    104.269838   38.491160   846.841774   \n",
       "min      9.000000    3.000000     68.000000   46.000000  1613.000000   \n",
       "25%     17.500000    4.000000    104.250000   75.000000  2223.750000   \n",
       "50%     23.000000    4.000000    148.500000   93.500000  2803.500000   \n",
       "75%     29.000000    8.000000    262.000000  126.000000  3608.000000   \n",
       "max     46.600000    8.000000    455.000000  230.000000  5140.000000   \n",
       "\n",
       "       acceleration  model year      origin  \n",
       "count    398.000000  398.000000  398.000000  \n",
       "mean      15.568090   76.010050    1.572864  \n",
       "std        2.757689    3.697627    0.802055  \n",
       "min        8.000000   70.000000    1.000000  \n",
       "25%       13.825000   73.000000    1.000000  \n",
       "50%       15.500000   76.000000    1.000000  \n",
       "75%       17.175000   79.000000    2.000000  \n",
       "max       24.800000   82.000000    3.000000  "
      ]
     },
     "execution_count": 48,
     "metadata": {},
     "output_type": "execute_result"
    }
   ],
   "source": [
    "# General information\n",
    "df.info()\n",
    "df.head()\n",
    "df.describe()"
   ]
  },
  {
   "cell_type": "code",
   "execution_count": 49,
   "id": "8a25a6d5",
   "metadata": {},
   "outputs": [
    {
     "data": {
      "text/plain": [
       "mpg             0\n",
       "cylinders       0\n",
       "displacement    0\n",
       "horsepower      6\n",
       "weight          0\n",
       "acceleration    0\n",
       "model year      0\n",
       "origin          0\n",
       "car name        0\n",
       "dtype: int64"
      ]
     },
     "execution_count": 49,
     "metadata": {},
     "output_type": "execute_result"
    }
   ],
   "source": [
    "# check if null values exist\n",
    "df.isnull().any()\n",
    "df.isnull().sum()"
   ]
  },
  {
   "cell_type": "code",
   "execution_count": 50,
   "id": "54ed3c09",
   "metadata": {
    "scrolled": true
   },
   "outputs": [],
   "source": [
    "# Create a copy version before changing value\n",
    "# Fill missing value in horsepower with mean \n",
    "df_edited=df\n",
    "df_edited['horsepower'].fillna((df_edited['horsepower'].mean()), inplace=True)"
   ]
  },
  {
   "cell_type": "code",
   "execution_count": 51,
   "id": "28d074a0",
   "metadata": {
    "scrolled": true
   },
   "outputs": [
    {
     "name": "stdout",
     "output_type": "stream",
     "text": [
      "<class 'pandas.core.frame.DataFrame'>\n",
      "RangeIndex: 398 entries, 0 to 397\n",
      "Data columns (total 8 columns):\n",
      " #   Column        Non-Null Count  Dtype   \n",
      "---  ------        --------------  -----   \n",
      " 0   mpg           398 non-null    float64 \n",
      " 1   cylinders     398 non-null    int64   \n",
      " 2   displacement  398 non-null    float64 \n",
      " 3   horsepower    398 non-null    float64 \n",
      " 4   weight        398 non-null    int64   \n",
      " 5   acceleration  398 non-null    float64 \n",
      " 6   model year    398 non-null    int64   \n",
      " 7   origin        398 non-null    category\n",
      "dtypes: category(1), float64(4), int64(3)\n",
      "memory usage: 22.4 KB\n"
     ]
    }
   ],
   "source": [
    "# Convert Data type of origin and drop unused column\n",
    "#df_edited[\"modelYear\"] = df_edited[\"modelYear\"].astype('category')\n",
    "df_edited[\"origin\"] = df_edited[\"origin\"].astype('category')\n",
    "df_edited=df_edited.drop(['car name'],axis=1)\n",
    "df_edited.info()"
   ]
  },
  {
   "cell_type": "code",
   "execution_count": 52,
   "id": "cc821c5a",
   "metadata": {},
   "outputs": [
    {
     "data": {
      "image/png": "[encoded data removed]",
      "text/plain": [
       "<Figure size 432x288 with 1 Axes>"
      ]
     },
     "metadata": {
      "needs_background": "light"
     },
     "output_type": "display_data"
    },
    {
     "data": {
      "image/png": "[encoded data removed]",
      "text/plain": [
       "<Figure size 432x288 with 1 Axes>"
      ]
     },
     "metadata": {
      "needs_background": "light"
     },
     "output_type": "display_data"
    },
    {
     "data": {
      "image/png": "[encoded data removed]",
      "text/plain": [
       "<Figure size 432x288 with 1 Axes>"
      ]
     },
     "metadata": {
      "needs_background": "light"
     },
     "output_type": "display_data"
    },
    {
     "data": {
      "image/png": "[encoded data removed]",
      "text/plain": [
       "<Figure size 432x288 with 1 Axes>"
      ]
     },
     "metadata": {
      "needs_background": "light"
     },
     "output_type": "display_data"
    },
    {
     "data": {
      "image/png": "[encoded data removed]",
      "text/plain": [
       "<Figure size 432x288 with 1 Axes>"
      ]
     },
     "metadata": {
      "needs_background": "light"
     },
     "output_type": "display_data"
    },
    {
     "data": {
      "image/png": "[encoded data removed]",
      "text/plain": [
       "<Figure size 432x288 with 1 Axes>"
      ]
     },
     "metadata": {
      "needs_background": "light"
     },
     "output_type": "display_data"
    },
    {
     "data": {
      "image/png": "[encoded data removed]",
      "text/plain": [
       "<Figure size 432x288 with 1 Axes>"
      ]
     },
     "metadata": {
      "needs_background": "light"
     },
     "output_type": "display_data"
    }
   ],
   "source": [
    "#light explores numeric data\n",
    "df_num=df_edited.select_dtypes(include='number')\n",
    "\n",
    "#plot numeric values \n",
    "for i in df_num.columns:\n",
    "    plt.hist(df_num[i])\n",
    "    plt.title(i)\n",
    "    plt.show()"
   ]
  },
  {
   "cell_type": "code",
   "execution_count": 53,
   "id": "35574c88",
   "metadata": {},
   "outputs": [
    {
     "name": "stdout",
     "output_type": "stream",
     "text": [
      "origin       1   2   3\n",
      "cylinders             \n",
      "3            0   0   4\n",
      "4           72  63  69\n",
      "5            0   3   0\n",
      "6           74   4   6\n",
      "8          103   0   0\n"
     ]
    }
   ],
   "source": [
    "# Use pivot table for light exploration\n",
    "print(pd.pivot_table(df_edited,columns='origin',index='cylinders',values='model year',aggfunc='count'))"
   ]
  },
  {
   "cell_type": "code",
   "execution_count": 54,
   "id": "bfacd722",
   "metadata": {
    "scrolled": false
   },
   "outputs": [
    {
     "name": "stdout",
     "output_type": "stream",
     "text": [
      "Origin: \n",
      "1    249\n",
      "3     79\n",
      "2     70\n",
      "Name: origin, dtype: int64\n",
      "Cylinders: \n",
      "4    204\n",
      "8    103\n",
      "6     84\n",
      "3      4\n",
      "5      3\n",
      "Name: cylinders, dtype: int64\n"
     ]
    }
   ],
   "source": [
    "# Count unique values in origin and cylinders\n",
    "print(\"Origin: \")\n",
    "print(df['origin'].value_counts())\n",
    "\n",
    "print(\"Cylinders: \")\n",
    "print(df['cylinders'].value_counts())"
   ]
  },
  {
   "cell_type": "code",
   "execution_count": 55,
   "id": "b40ebd42",
   "metadata": {
    "scrolled": true
   },
   "outputs": [
    {
     "name": "stdout",
     "output_type": "stream",
     "text": [
      "                   mpg  cylinders  displacement  horsepower    weight  \\\n",
      "mpg           1.000000  -0.775396     -0.804203   -0.771437 -0.831741   \n",
      "cylinders    -0.775396   1.000000      0.950721    0.838939  0.896017   \n",
      "displacement -0.804203   0.950721      1.000000    0.893646  0.932824   \n",
      "horsepower   -0.771437   0.838939      0.893646    1.000000  0.860574   \n",
      "weight       -0.831741   0.896017      0.932824    0.860574  1.000000   \n",
      "acceleration  0.420289  -0.505419     -0.543684   -0.684259 -0.417457   \n",
      "model year    0.579267  -0.348746     -0.370164   -0.411651 -0.306564   \n",
      "\n",
      "              acceleration  model year  \n",
      "mpg               0.420289    0.579267  \n",
      "cylinders        -0.505419   -0.348746  \n",
      "displacement     -0.543684   -0.370164  \n",
      "horsepower       -0.684259   -0.411651  \n",
      "weight           -0.417457   -0.306564  \n",
      "acceleration      1.000000    0.288137  \n",
      "model year        0.288137    1.000000  \n"
     ]
    },
    {
     "data": {
      "text/plain": [
       "<AxesSubplot:>"
      ]
     },
     "execution_count": 55,
     "metadata": {},
     "output_type": "execute_result"
    },
    {
     "data": {
      "image/png": "[encoded data removed]",
      "text/plain": [
       "<Figure size 432x288 with 2 Axes>"
      ]
     },
     "metadata": {
      "needs_background": "light"
     },
     "output_type": "display_data"
    }
   ],
   "source": [
    "# Find correlations between label and features using heatmap\n",
    "print(df_edited.corr())\n",
    "sns.heatmap(df_num.corr())"
   ]
  },
  {
   "cell_type": "code",
   "execution_count": 72,
   "id": "959845f8",
   "metadata": {
    "scrolled": true
   },
   "outputs": [
    {
     "name": "stdout",
     "output_type": "stream",
     "text": [
      "      mpg  cylinders  displacement  horsepower  weight  acceleration  \\\n",
      "0    18.0          8         307.0       130.0    3504          12.0   \n",
      "1    15.0          8         350.0       165.0    3693          11.5   \n",
      "2    18.0          8         318.0       150.0    3436          11.0   \n",
      "3    16.0          8         304.0       150.0    3433          12.0   \n",
      "4    17.0          8         302.0       140.0    3449          10.5   \n",
      "..    ...        ...           ...         ...     ...           ...   \n",
      "393  27.0          4         140.0        86.0    2790          15.6   \n",
      "394  44.0          4          97.0        52.0    2130          24.6   \n",
      "395  32.0          4         135.0        84.0    2295          11.6   \n",
      "396  28.0          4         120.0        79.0    2625          18.6   \n",
      "397  31.0          4         119.0        82.0    2720          19.4   \n",
      "\n",
      "     model year  origin_2  origin_3  \n",
      "0            70         0         0  \n",
      "1            70         0         0  \n",
      "2            70         0         0  \n",
      "3            70         0         0  \n",
      "4            70         0         0  \n",
      "..          ...       ...       ...  \n",
      "393          82         0         0  \n",
      "394          82         1         0  \n",
      "395          82         0         0  \n",
      "396          82         0         0  \n",
      "397          82         0         0  \n",
      "\n",
      "[398 rows x 9 columns]\n"
     ]
    }
   ],
   "source": [
    "# Dummy variable encoding for origin\n",
    "df_edited = pd.get_dummies(df_edited, columns=['origin'],drop_first=True)\n",
    "df_edited.shape\n",
    "print(df_edited)"
   ]
  },
  {
   "cell_type": "code",
   "execution_count": 57,
   "id": "cd58b1dd",
   "metadata": {},
   "outputs": [],
   "source": [
    "# Import useful libraries for preprocessing data\n",
    "from sklearn.preprocessing import StandardScaler\n",
    "from sklearn.preprocessing import MinMaxScaler\n",
    "from sklearn.model_selection import train_test_split\n",
    "from sklearn.linear_model import LinearRegression"
   ]
  },
  {
   "cell_type": "code",
   "execution_count": 58,
   "id": "0b7f8e43",
   "metadata": {
    "scrolled": true
   },
   "outputs": [
    {
     "name": "stdout",
     "output_type": "stream",
     "text": [
      "(318, 8)\n",
      "(80, 8)\n",
      "(318,)\n",
      "(80,)\n"
     ]
    }
   ],
   "source": [
    "\n",
    "label=df_edited['mpg']\n",
    "features=df_edited.drop(['mpg'],axis=1)\n",
    "\n",
    "# Split data into training set and test set\n",
    "X_train, X_test, y_train, y_test = train_test_split(features,label, test_size=0.2, random_state=42)\n",
    "\n",
    "# Check data after spliting\n",
    "print(X_train.shape)\n",
    "print(X_test.shape)\n",
    "print(y_train.shape)\n",
    "print(y_test.shape)\n"
   ]
  },
  {
   "cell_type": "code",
   "execution_count": 59,
   "id": "a818ce0d",
   "metadata": {},
   "outputs": [
    {
     "name": "stderr",
     "output_type": "stream",
     "text": [
      "C:\\Users\\Admin\\anaconda3\\lib\\site-packages\\pandas\\core\\indexing.py:1738: SettingWithCopyWarning: \n",
      "A value is trying to be set on a copy of a slice from a DataFrame.\n",
      "Try using .loc[row_indexer,col_indexer] = value instead\n",
      "\n",
      "See the caveats in the documentation: https://pandas.pydata.org/pandas-docs/stable/user_guide/indexing.html#returning-a-view-versus-a-copy\n",
      "  self._setitem_single_column(loc, value[:, i].tolist(), pi)\n",
      "C:\\Users\\Admin\\anaconda3\\lib\\site-packages\\pandas\\core\\indexing.py:1738: SettingWithCopyWarning: \n",
      "A value is trying to be set on a copy of a slice from a DataFrame.\n",
      "Try using .loc[row_indexer,col_indexer] = value instead\n",
      "\n",
      "See the caveats in the documentation: https://pandas.pydata.org/pandas-docs/stable/user_guide/indexing.html#returning-a-view-versus-a-copy\n",
      "  self._setitem_single_column(loc, value[:, i].tolist(), pi)\n"
     ]
    }
   ],
   "source": [
    "# Standarize numerical variables of training and testing set before using machine learning algorithm\n",
    "sc = StandardScaler()\n",
    "X_train.iloc[:, 0:5] = sc.fit_transform(X_train.iloc[:, 0:5])\n",
    "X_test.iloc[:, 0:5] = sc.fit_transform(X_test.iloc[:, 0:5])"
   ]
  },
  {
   "cell_type": "code",
   "execution_count": 60,
   "id": "8bfaf280",
   "metadata": {},
   "outputs": [
    {
     "name": "stdout",
     "output_type": "stream",
     "text": [
      "Coefficent:  [-0.27544311  2.01366001 -0.49384575 -5.93612313  0.20236728  0.82739747\n",
      "  2.93924405  2.65290155]\n",
      "Intercept :  -40.428098195838594\n"
     ]
    }
   ],
   "source": [
    "# apply linear regression on X_train and y_train\n",
    "lr=LinearRegression()\n",
    "lr.fit(X_train, y_train)\n",
    "print(\"Coefficent: \",lr.coef_)          # Coefficent\n",
    "print(\"Intercept : \",lr.intercept_)     # Intercept or Bias\n"
   ]
  },
  {
   "cell_type": "code",
   "execution_count": 61,
   "id": "913cc4be",
   "metadata": {},
   "outputs": [
    {
     "data": {
      "text/plain": [
       "Text(0, 0.5, 'Y Predictions')"
      ]
     },
     "execution_count": 61,
     "metadata": {},
     "output_type": "execute_result"
    },
    {
     "data": {
      "image/png": "[encoded data removed]",
      "text/plain": [
       "<Figure size 432x288 with 1 Axes>"
      ]
     },
     "metadata": {
      "needs_background": "light"
     },
     "output_type": "display_data"
    }
   ],
   "source": [
    "# Predict y_test using X_Test\n",
    "y_pred = lr.predict(X_test)\n",
    "# Plot regression line\n",
    "sns.regplot(x=y_test,y=y_pred)\n",
    "plt.xlabel('Y Test')\n",
    "plt.ylabel('Y y_pred')"
   ]
  },
  {
   "cell_type": "code",
   "execution_count": 81,
   "id": "6a050146",
   "metadata": {},
   "outputs": [
    {
     "name": "stdout",
     "output_type": "stream",
     "text": [
      "Model's score on training set: \n",
      "0.8188288951042786\n",
      "\n",
      "Model's score on test set: \n",
      "0.8472558509594919\n",
      "\n",
      "Overall accuracy of model using R squared: \n",
      "0.8446533697894982\n",
      "\n",
      "Mean squared error: \n",
      "8.21250969752809\n",
      "\n",
      "Root mean squared error: \n",
      "2.8657476681536513\n"
     ]
    }
   ],
   "source": [
    "# Evaluate model\n",
    "from sklearn.metrics import r2_score\n",
    "\n",
    "print(\"Model's score on training set: \")\n",
    "print(lr.score(X_train, y_train))\n",
    "\n",
    "print(\"\\nModel's score on test set: \")\n",
    "print(lr.score(X_test, y_test))\n",
    "\n",
    "print(\"\\nOverall accuracy of model using R squared: \")\n",
    "print(r2_score(y_pred, y_test))\n",
    "\n",
    "print(\"\\nMean squared error: \")\n",
    "print(np.mean((y_pred-y_test)**2))\n",
    "\n",
    "print(\"\\nRoot mean squared error: \")\n",
    "print(np.sqrt(np.mean((y_pred-y_test)**2)))"
   ]
  }
 ],
 "metadata": {
  "kernelspec": {
   "display_name": "Python 3",
   "language": "python",
   "name": "python3"
  },
  "language_info": {
   "codemirror_mode": {
    "name": "ipython",
    "version": 3
   },
   "file_extension": ".py",
   "mimetype": "text/x-python",
   "name": "python",
   "nbconvert_exporter": "python",
   "pygments_lexer": "ipython3",
   "version": "3.8.8"
  }
 },
 "nbformat": 4,
 "nbformat_minor": 5
}
