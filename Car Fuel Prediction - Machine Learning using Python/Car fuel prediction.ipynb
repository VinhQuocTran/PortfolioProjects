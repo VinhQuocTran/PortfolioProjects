{
 "cells": [
  {
   "cell_type": "code",
   "execution_count": 17,
   "id": "bdd627e0",
   "metadata": {},
   "outputs": [],
   "source": [
    "# Import needed libraries\n",
    "import pandas as pd\n",
    "import numpy as np\n",
    "import seaborn as sns\n",
    "import matplotlib.pyplot as plt"
   ]
  },
  {
   "cell_type": "code",
   "execution_count": 18,
   "id": "45e5ff23",
   "metadata": {},
   "outputs": [],
   "source": [
    "# Import data from auto-mpg\n",
    "fileName='auto-mpg.data'\n",
    "featureNames=['mpg','cylinders','displacement','horsepower','weight','acceleration','modelYear','origin','carName']\n",
    "df = pd.read_csv(fileName, sep=',',names=featureNames)  "
   ]
  },
  {
   "cell_type": "code",
   "execution_count": 19,
   "id": "f789cecb",
   "metadata": {
    "scrolled": false
   },
   "outputs": [
    {
     "name": "stdout",
     "output_type": "stream",
     "text": [
      "<class 'pandas.core.frame.DataFrame'>\n",
      "RangeIndex: 398 entries, 0 to 397\n",
      "Data columns (total 9 columns):\n",
      " #   Column        Non-Null Count  Dtype  \n",
      "---  ------        --------------  -----  \n",
      " 0   mpg           398 non-null    int64  \n",
      " 1   cylinders     398 non-null    int64  \n",
      " 2   displacement  398 non-null    int64  \n",
      " 3   horsepower    392 non-null    float64\n",
      " 4   weight        398 non-null    int64  \n",
      " 5   acceleration  398 non-null    int64  \n",
      " 6   modelYear     398 non-null    int64  \n",
      " 7   origin        398 non-null    int64  \n",
      " 8   carName       398 non-null    object \n",
      "dtypes: float64(1), int64(7), object(1)\n",
      "memory usage: 28.1+ KB\n"
     ]
    },
    {
     "data": {
      "text/html": [
       "<div>\n",
       "<style scoped>\n",
       "    .dataframe tbody tr th:only-of-type {\n",
       "        vertical-align: middle;\n",
       "    }\n",
       "\n",
       "    .dataframe tbody tr th {\n",
       "        vertical-align: top;\n",
       "    }\n",
       "\n",
       "    .dataframe thead th {\n",
       "        text-align: right;\n",
       "    }\n",
       "</style>\n",
       "<table border=\"1\" class=\"dataframe\">\n",
       "  <thead>\n",
       "    <tr style=\"text-align: right;\">\n",
       "      <th></th>\n",
       "      <th>mpg</th>\n",
       "      <th>cylinders</th>\n",
       "      <th>displacement</th>\n",
       "      <th>horsepower</th>\n",
       "      <th>weight</th>\n",
       "      <th>acceleration</th>\n",
       "      <th>modelYear</th>\n",
       "      <th>origin</th>\n",
       "      <th>carName</th>\n",
       "    </tr>\n",
       "  </thead>\n",
       "  <tbody>\n",
       "    <tr>\n",
       "      <th>0</th>\n",
       "      <td>180</td>\n",
       "      <td>8</td>\n",
       "      <td>3070</td>\n",
       "      <td>1300.0</td>\n",
       "      <td>3504</td>\n",
       "      <td>120</td>\n",
       "      <td>70</td>\n",
       "      <td>1</td>\n",
       "      <td>chevroletchevellemalibu</td>\n",
       "    </tr>\n",
       "    <tr>\n",
       "      <th>1</th>\n",
       "      <td>150</td>\n",
       "      <td>8</td>\n",
       "      <td>3500</td>\n",
       "      <td>1650.0</td>\n",
       "      <td>3693</td>\n",
       "      <td>115</td>\n",
       "      <td>70</td>\n",
       "      <td>1</td>\n",
       "      <td>buickskylark320</td>\n",
       "    </tr>\n",
       "    <tr>\n",
       "      <th>2</th>\n",
       "      <td>180</td>\n",
       "      <td>8</td>\n",
       "      <td>3180</td>\n",
       "      <td>1500.0</td>\n",
       "      <td>3436</td>\n",
       "      <td>110</td>\n",
       "      <td>70</td>\n",
       "      <td>1</td>\n",
       "      <td>plymouthsatellite</td>\n",
       "    </tr>\n",
       "    <tr>\n",
       "      <th>3</th>\n",
       "      <td>160</td>\n",
       "      <td>8</td>\n",
       "      <td>3040</td>\n",
       "      <td>1500.0</td>\n",
       "      <td>3433</td>\n",
       "      <td>120</td>\n",
       "      <td>70</td>\n",
       "      <td>1</td>\n",
       "      <td>amcrebelsst</td>\n",
       "    </tr>\n",
       "    <tr>\n",
       "      <th>4</th>\n",
       "      <td>170</td>\n",
       "      <td>8</td>\n",
       "      <td>3020</td>\n",
       "      <td>1400.0</td>\n",
       "      <td>3449</td>\n",
       "      <td>105</td>\n",
       "      <td>70</td>\n",
       "      <td>1</td>\n",
       "      <td>fordtorino</td>\n",
       "    </tr>\n",
       "  </tbody>\n",
       "</table>\n",
       "</div>"
      ],
      "text/plain": [
       "   mpg  cylinders  displacement  horsepower  weight  acceleration  modelYear  \\\n",
       "0  180          8          3070      1300.0    3504           120         70   \n",
       "1  150          8          3500      1650.0    3693           115         70   \n",
       "2  180          8          3180      1500.0    3436           110         70   \n",
       "3  160          8          3040      1500.0    3433           120         70   \n",
       "4  170          8          3020      1400.0    3449           105         70   \n",
       "\n",
       "   origin                  carName  \n",
       "0       1  chevroletchevellemalibu  \n",
       "1       1          buickskylark320  \n",
       "2       1        plymouthsatellite  \n",
       "3       1              amcrebelsst  \n",
       "4       1               fordtorino  "
      ]
     },
     "execution_count": 19,
     "metadata": {},
     "output_type": "execute_result"
    }
   ],
   "source": [
    "# General information\n",
    "df.info()\n",
    "df.head()"
   ]
  },
  {
   "cell_type": "code",
   "execution_count": 20,
   "id": "8a25a6d5",
   "metadata": {},
   "outputs": [
    {
     "data": {
      "text/plain": [
       "mpg             0\n",
       "cylinders       0\n",
       "displacement    0\n",
       "horsepower      6\n",
       "weight          0\n",
       "acceleration    0\n",
       "modelYear       0\n",
       "origin          0\n",
       "carName         0\n",
       "dtype: int64"
      ]
     },
     "execution_count": 20,
     "metadata": {},
     "output_type": "execute_result"
    }
   ],
   "source": [
    "# check if null values exist\n",
    "df.isnull().any()\n",
    "df.isnull().sum()"
   ]
  },
  {
   "cell_type": "code",
   "execution_count": 21,
   "id": "54ed3c09",
   "metadata": {},
   "outputs": [],
   "source": [
    "# Create a copy version before changing value\n",
    "# Fill missing value in horsepower with mean \n",
    "df_edited=df\n",
    "df_edited['horsepower'].fillna((df_edited['horsepower'].mean()), inplace=True)"
   ]
  },
  {
   "cell_type": "code",
   "execution_count": 22,
   "id": "cc821c5a",
   "metadata": {},
   "outputs": [
    {
     "data": {
      "image/png": "[encoded data removed]",
      "text/plain": [
       "<Figure size 432x288 with 1 Axes>"
      ]
     },
     "metadata": {
      "needs_background": "light"
     },
     "output_type": "display_data"
    },
    {
     "data": {
      "image/png": "[encoded data removed]",
      "text/plain": [
       "<Figure size 432x288 with 1 Axes>"
      ]
     },
     "metadata": {
      "needs_background": "light"
     },
     "output_type": "display_data"
    },
    {
     "data": {
      "image/png": "[encoded data removed]",
      "text/plain": [
       "<Figure size 432x288 with 1 Axes>"
      ]
     },
     "metadata": {
      "needs_background": "light"
     },
     "output_type": "display_data"
    },
    {
     "data": {
      "image/png": "[encoded data removed]",
      "text/plain": [
       "<Figure size 432x288 with 1 Axes>"
      ]
     },
     "metadata": {
      "needs_background": "light"
     },
     "output_type": "display_data"
    },
    {
     "data": {
      "image/png": "[encoded data removed]",
      "text/plain": [
       "<Figure size 432x288 with 1 Axes>"
      ]
     },
     "metadata": {
      "needs_background": "light"
     },
     "output_type": "display_data"
    },
    {
     "data": {
      "image/png": "[encoded data removed]",
      "text/plain": [
       "<Figure size 432x288 with 1 Axes>"
      ]
     },
     "metadata": {
      "needs_background": "light"
     },
     "output_type": "display_data"
    },
    {
     "data": {
      "image/png": "[encoded data removed]",
      "text/plain": [
       "<Figure size 432x288 with 1 Axes>"
      ]
     },
     "metadata": {
      "needs_background": "light"
     },
     "output_type": "display_data"
    },
    {
     "data": {
      "image/png": "[encoded data removed]",
      "text/plain": [
       "<Figure size 432x288 with 1 Axes>"
      ]
     },
     "metadata": {
      "needs_background": "light"
     },
     "output_type": "display_data"
    }
   ],
   "source": [
    "#light explores numeric data\n",
    "df_num=df_edited.select_dtypes(include='number')\n",
    "\n",
    "#plot numeric values \n",
    "for i in df_num.columns:\n",
    "    plt.hist(df_num[i])\n",
    "    plt.title(i)\n",
    "    plt.show()"
   ]
  },
  {
   "cell_type": "code",
   "execution_count": 23,
   "id": "35574c88",
   "metadata": {},
   "outputs": [
    {
     "name": "stdout",
     "output_type": "stream",
     "text": [
      "origin         1     2     3\n",
      "cylinders                   \n",
      "3            NaN   NaN   4.0\n",
      "4           72.0  63.0  69.0\n",
      "5            NaN   3.0   NaN\n",
      "6           74.0   4.0   6.0\n",
      "8          103.0   NaN   NaN\n"
     ]
    }
   ],
   "source": [
    "# Use pivot table to explore a little deeper\n",
    "print(pd.pivot_table(df_edited,columns='origin',index='cylinders',values='modelYear',aggfunc='count'))"
   ]
  },
  {
   "cell_type": "code",
   "execution_count": 24,
   "id": "bfacd722",
   "metadata": {},
   "outputs": [
    {
     "name": "stdout",
     "output_type": "stream",
     "text": [
      "Origin: \n",
      " 1    249\n",
      "3     79\n",
      "2     70\n",
      "Name: origin, dtype: int64\n",
      "Cylinders: \n",
      " 4    204\n",
      "8    103\n",
      "6     84\n",
      "3      4\n",
      "5      3\n",
      "Name: cylinders, dtype: int64\n"
     ]
    }
   ],
   "source": [
    "# Count origin and cylinders\n",
    "print(\"Origin: \\n\",df['origin'].value_counts())\n",
    "print(\"Cylinders: \\n\",df['cylinders'].value_counts())"
   ]
  },
  {
   "cell_type": "code",
   "execution_count": 25,
   "id": "b40ebd42",
   "metadata": {},
   "outputs": [
    {
     "name": "stdout",
     "output_type": "stream",
     "text": [
      "                   mpg  cylinders  displacement  horsepower    weight  \\\n",
      "mpg           1.000000  -0.775396      0.402229    0.547326 -0.831741   \n",
      "cylinders    -0.775396   1.000000     -0.242810   -0.706122  0.896017   \n",
      "displacement  0.402229  -0.242810      1.000000    0.089973 -0.390173   \n",
      "horsepower    0.547326  -0.706122      0.089973    1.000000 -0.640970   \n",
      "weight       -0.831741   0.896017     -0.390173   -0.640970  1.000000   \n",
      "acceleration  0.196969  -0.221709      0.103425    0.190413 -0.169391   \n",
      "modelYear     0.579267  -0.348746     -0.006304    0.220668 -0.306564   \n",
      "origin        0.563450  -0.562543      0.357808    0.351731 -0.581024   \n",
      "\n",
      "              acceleration  modelYear    origin  \n",
      "mpg               0.196969   0.579267  0.563450  \n",
      "cylinders        -0.221709  -0.348746 -0.562543  \n",
      "displacement      0.103425  -0.006304  0.357808  \n",
      "horsepower        0.190413   0.220668  0.351731  \n",
      "weight           -0.169391  -0.306564 -0.581024  \n",
      "acceleration      1.000000   0.128133  0.085641  \n",
      "modelYear         0.128133   1.000000  0.180662  \n",
      "origin            0.085641   0.180662  1.000000  \n"
     ]
    },
    {
     "data": {
      "text/plain": [
       "<AxesSubplot:>"
      ]
     },
     "execution_count": 25,
     "metadata": {},
     "output_type": "execute_result"
    },
    {
     "data": {
      "image/png": "[encoded data removed]",
      "text/plain": [
       "<Figure size 432x288 with 2 Axes>"
      ]
     },
     "metadata": {
      "needs_background": "light"
     },
     "output_type": "display_data"
    }
   ],
   "source": [
    "# Find correlations between label and features using heatmap\n",
    "print(df_edited.corr())\n",
    "sns.heatmap(df_num.corr())"
   ]
  },
  {
   "cell_type": "code",
   "execution_count": 26,
   "id": "cd58b1dd",
   "metadata": {},
   "outputs": [],
   "source": [
    "# Import useful libraries for preprocessing data\n",
    "from sklearn.preprocessing import StandardScaler\n",
    "from sklearn.preprocessing import MinMaxScaler\n",
    "from sklearn.model_selection import train_test_split\n",
    "from sklearn.linear_model import LinearRegression"
   ]
  },
  {
   "cell_type": "code",
   "execution_count": 27,
   "id": "0b7f8e43",
   "metadata": {},
   "outputs": [
    {
     "name": "stdout",
     "output_type": "stream",
     "text": [
      "(318, 7)\n",
      "(80, 7)\n"
     ]
    }
   ],
   "source": [
    "# Split data into training set and test set\n",
    "features=df_num.drop(['mpg'],axis=1)\n",
    "label=df_edited['mpg']\n",
    "X_train, X_test, y_train, y_test = train_test_split(features,label, test_size=0.2, random_state=42)\n",
    "\n",
    "# Check data after spliting\n",
    "print(X_train.shape)\n",
    "print(X_test.shape)"
   ]
  },
  {
   "cell_type": "code",
   "execution_count": 28,
   "id": "a818ce0d",
   "metadata": {},
   "outputs": [],
   "source": [
    "# Standarize training and testing set before using machine learning algorithm\n",
    "sc = StandardScaler()\n",
    "X_train = sc.fit_transform(X_train)\n",
    "X_test = sc.fit_transform(X_test)"
   ]
  },
  {
   "cell_type": "code",
   "execution_count": 29,
   "id": "8bfaf280",
   "metadata": {},
   "outputs": [
    {
     "name": "stdout",
     "output_type": "stream",
     "text": [
      "Coefficent:  [ -2.35159364  11.49911272   1.33079946 -44.40425795   0.53882309\n",
      "  30.03556826   6.45855531]\n",
      "Intercept :  236.08176100628936\n"
     ]
    }
   ],
   "source": [
    "# apply linear regression on X_train and y_train\n",
    "lr=LinearRegression()\n",
    "lr.fit(X_train, y_train)\n",
    "print(\"Coefficent: \",lr.coef_)          # Coefficent\n",
    "print(\"Intercept : \",lr.intercept_)     # Intercept or Bias"
   ]
  },
  {
   "cell_type": "code",
   "execution_count": 30,
   "id": "913cc4be",
   "metadata": {},
   "outputs": [
    {
     "data": {
      "text/plain": [
       "Text(0, 0.5, 'Y Predictions')"
      ]
     },
     "execution_count": 30,
     "metadata": {},
     "output_type": "execute_result"
    },
    {
     "data": {
      "image/png": "[encoded data removed]",
      "text/plain": [
       "<Figure size 432x288 with 1 Axes>"
      ]
     },
     "metadata": {
      "needs_background": "light"
     },
     "output_type": "display_data"
    }
   ],
   "source": [
    "# Predict y_test using X_Test\n",
    "predictions = lr.predict(X_test)\n",
    "predictions=np.round(predictions,0)\n",
    "\n",
    "# Plot regression line\n",
    "sns.regplot(x=y_test,y=predictions)\n",
    "plt.xlabel('Y Test')\n",
    "plt.ylabel('Y Predictions')"
   ]
  },
  {
   "cell_type": "code",
   "execution_count": 40,
   "id": "6a050146",
   "metadata": {},
   "outputs": [
    {
     "name": "stdout",
     "output_type": "stream",
     "text": [
      "0.86\n"
     ]
    }
   ],
   "source": [
    "# Evaluate model using R square score\n",
    "from sklearn.metrics import r2_score\n",
    "print(np.round(r2_score(y_test, predictions),2))"
   ]
  },
  {
   "cell_type": "code",
   "execution_count": 39,
   "id": "ee26b36b",
   "metadata": {},
   "outputs": [
    {
     "name": "stdout",
     "output_type": "stream",
     "text": [
      "369.7\n"
     ]
    }
   ],
   "source": [
    "# Calculate MSE Cost Function\n",
    "cost=(predictions-y_test)**2\n",
    "cost=(1/(2*80))*cost.values.sum()\n",
    "print(np.round(cost,1))"
   ]
  }
 ],
 "metadata": {
  "kernelspec": {
   "display_name": "Python 3",
   "language": "python",
   "name": "python3"
  },
  "language_info": {
   "codemirror_mode": {
    "name": "ipython",
    "version": 3
   },
   "file_extension": ".py",
   "mimetype": "text/x-python",
   "name": "python",
   "nbconvert_exporter": "python",
   "pygments_lexer": "ipython3",
   "version": "3.9.5"
  }
 },
 "nbformat": 4,
 "nbformat_minor": 5
}
