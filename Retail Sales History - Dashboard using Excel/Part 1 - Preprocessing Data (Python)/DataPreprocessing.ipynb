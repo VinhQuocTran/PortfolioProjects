{
 "cells": [
  {
   "cell_type": "code",
   "execution_count": 14,
   "id": "9ecc55f6",
   "metadata": {},
   "outputs": [],
   "source": [
    "import seaborn as sns\n",
    "import csv,json,os,statistics,time\n",
    "import datetime as dt\n",
    "import numpy as np\n",
    "import pandas as pd\n",
    "import requests\n",
    "import matplotlib.pyplot as plt\n",
    "from datetime import datetime\n",
    "pd.set_option('display.max_columns', 8)"
   ]
  },
  {
   "cell_type": "code",
   "execution_count": 15,
   "id": "aa22ef86",
   "metadata": {},
   "outputs": [],
   "source": [
    "df_sales=pd.read_csv('Original-Data/FACT_InternetSales.csv')\n",
    "df_customers=pd.read_csv('Original-Data/DIM_Customers.csv')\n",
    "df_products=pd.read_csv('Original-Data/DIM_Products.csv',keep_default_na=False)"
   ]
  },
  {
   "cell_type": "markdown",
   "id": "1bedc409",
   "metadata": {},
   "source": [
    "# Data Preprocessing\n",
    "## Handling duplicate value\n",
    "### a. Products and Sales table\n",
    "In Products table, many rows have the same ProductItemCode value but differ ProductKey and Product Status due to errors in collecting data.  \n",
    "So we will use ProductItemCode column to detect duplicate and only keep the last occurrence of duplicated values <br>"
   ]
  },
  {
   "cell_type": "code",
   "execution_count": 16,
   "id": "a42ea5ea",
   "metadata": {
    "scrolled": false
   },
   "outputs": [
    {
     "name": "stdout",
     "output_type": "stream",
     "text": [
      "False    504\n",
      "True     102\n",
      "dtype: int64\n"
     ]
    },
    {
     "data": {
      "text/html": [
       "<div>\n",
       "<style scoped>\n",
       "    .dataframe tbody tr th:only-of-type {\n",
       "        vertical-align: middle;\n",
       "    }\n",
       "\n",
       "    .dataframe tbody tr th {\n",
       "        vertical-align: top;\n",
       "    }\n",
       "\n",
       "    .dataframe thead th {\n",
       "        text-align: right;\n",
       "    }\n",
       "</style>\n",
       "<table border=\"1\" class=\"dataframe\">\n",
       "  <thead>\n",
       "    <tr style=\"text-align: right;\">\n",
       "      <th></th>\n",
       "      <th>ProductKey</th>\n",
       "      <th>ProductItemCode</th>\n",
       "      <th>Product Name</th>\n",
       "      <th>Sub Category</th>\n",
       "      <th>...</th>\n",
       "      <th>Product Line</th>\n",
       "      <th>Product Model Name</th>\n",
       "      <th>Product Description</th>\n",
       "      <th>Product Status</th>\n",
       "    </tr>\n",
       "  </thead>\n",
       "  <tbody>\n",
       "    <tr>\n",
       "      <th>211</th>\n",
       "      <td>212</td>\n",
       "      <td>HL-U509-R</td>\n",
       "      <td>Sport-100 Helmet, Red</td>\n",
       "      <td>Helmets</td>\n",
       "      <td>...</td>\n",
       "      <td>S</td>\n",
       "      <td>Sport-100</td>\n",
       "      <td>Universal fit, well-vented, lightweight , snap...</td>\n",
       "      <td>Outdate</td>\n",
       "    </tr>\n",
       "    <tr>\n",
       "      <th>212</th>\n",
       "      <td>213</td>\n",
       "      <td>HL-U509-R</td>\n",
       "      <td>Sport-100 Helmet, Red</td>\n",
       "      <td>Helmets</td>\n",
       "      <td>...</td>\n",
       "      <td>S</td>\n",
       "      <td>Sport-100</td>\n",
       "      <td>Universal fit, well-vented, lightweight , snap...</td>\n",
       "      <td>Outdate</td>\n",
       "    </tr>\n",
       "    <tr>\n",
       "      <th>214</th>\n",
       "      <td>215</td>\n",
       "      <td>HL-U509</td>\n",
       "      <td>Sport-100 Helmet, Black</td>\n",
       "      <td>Helmets</td>\n",
       "      <td>...</td>\n",
       "      <td>S</td>\n",
       "      <td>Sport-100</td>\n",
       "      <td>Universal fit, well-vented, lightweight , snap...</td>\n",
       "      <td>Outdate</td>\n",
       "    </tr>\n",
       "    <tr>\n",
       "      <th>215</th>\n",
       "      <td>216</td>\n",
       "      <td>HL-U509</td>\n",
       "      <td>Sport-100 Helmet, Black</td>\n",
       "      <td>Helmets</td>\n",
       "      <td>...</td>\n",
       "      <td>S</td>\n",
       "      <td>Sport-100</td>\n",
       "      <td>Universal fit, well-vented, lightweight , snap...</td>\n",
       "      <td>Outdate</td>\n",
       "    </tr>\n",
       "    <tr>\n",
       "      <th>219</th>\n",
       "      <td>220</td>\n",
       "      <td>HL-U509-B</td>\n",
       "      <td>Sport-100 Helmet, Blue</td>\n",
       "      <td>Helmets</td>\n",
       "      <td>...</td>\n",
       "      <td>S</td>\n",
       "      <td>Sport-100</td>\n",
       "      <td>Universal fit, well-vented, lightweight , snap...</td>\n",
       "      <td>Outdate</td>\n",
       "    </tr>\n",
       "    <tr>\n",
       "      <th>...</th>\n",
       "      <td>...</td>\n",
       "      <td>...</td>\n",
       "      <td>...</td>\n",
       "      <td>...</td>\n",
       "      <td>...</td>\n",
       "      <td>...</td>\n",
       "      <td>...</td>\n",
       "      <td>...</td>\n",
       "      <td>...</td>\n",
       "    </tr>\n",
       "    <tr>\n",
       "      <th>440</th>\n",
       "      <td>441</td>\n",
       "      <td>FR-R92B-48</td>\n",
       "      <td>HL Road Frame - Black, 48</td>\n",
       "      <td>Road Frames</td>\n",
       "      <td>...</td>\n",
       "      <td>R</td>\n",
       "      <td>HL Road Frame</td>\n",
       "      <td>Our lightest and best quality aluminum frame m...</td>\n",
       "      <td>Outdate</td>\n",
       "    </tr>\n",
       "    <tr>\n",
       "      <th>442</th>\n",
       "      <td>443</td>\n",
       "      <td>FR-R92B-52</td>\n",
       "      <td>HL Road Frame - Black, 52</td>\n",
       "      <td>Road Frames</td>\n",
       "      <td>...</td>\n",
       "      <td>R</td>\n",
       "      <td>HL Road Frame</td>\n",
       "      <td>Our lightest and best quality aluminum frame m...</td>\n",
       "      <td>Outdate</td>\n",
       "    </tr>\n",
       "    <tr>\n",
       "      <th>461</th>\n",
       "      <td>462</td>\n",
       "      <td>GL-H102-S</td>\n",
       "      <td>Half-Finger Gloves, S</td>\n",
       "      <td>Gloves</td>\n",
       "      <td>...</td>\n",
       "      <td>S</td>\n",
       "      <td>Half-Finger Gloves</td>\n",
       "      <td>Full padding, improved finger flex, durable pa...</td>\n",
       "      <td>Outdate</td>\n",
       "    </tr>\n",
       "    <tr>\n",
       "      <th>463</th>\n",
       "      <td>464</td>\n",
       "      <td>GL-H102-M</td>\n",
       "      <td>Half-Finger Gloves, M</td>\n",
       "      <td>Gloves</td>\n",
       "      <td>...</td>\n",
       "      <td>S</td>\n",
       "      <td>Half-Finger Gloves</td>\n",
       "      <td>Full padding, improved finger flex, durable pa...</td>\n",
       "      <td>Outdate</td>\n",
       "    </tr>\n",
       "    <tr>\n",
       "      <th>465</th>\n",
       "      <td>466</td>\n",
       "      <td>GL-H102-L</td>\n",
       "      <td>Half-Finger Gloves, L</td>\n",
       "      <td>Gloves</td>\n",
       "      <td>...</td>\n",
       "      <td>S</td>\n",
       "      <td>Half-Finger Gloves</td>\n",
       "      <td>Full padding, improved finger flex, durable pa...</td>\n",
       "      <td>Outdate</td>\n",
       "    </tr>\n",
       "  </tbody>\n",
       "</table>\n",
       "<p>102 rows × 11 columns</p>\n",
       "</div>"
      ],
      "text/plain": [
       "     ProductKey ProductItemCode               Product Name Sub Category  ...  \\\n",
       "211         212       HL-U509-R      Sport-100 Helmet, Red      Helmets  ...   \n",
       "212         213       HL-U509-R      Sport-100 Helmet, Red      Helmets  ...   \n",
       "214         215         HL-U509    Sport-100 Helmet, Black      Helmets  ...   \n",
       "215         216         HL-U509    Sport-100 Helmet, Black      Helmets  ...   \n",
       "219         220       HL-U509-B     Sport-100 Helmet, Blue      Helmets  ...   \n",
       "..          ...             ...                        ...          ...  ...   \n",
       "440         441      FR-R92B-48  HL Road Frame - Black, 48  Road Frames  ...   \n",
       "442         443      FR-R92B-52  HL Road Frame - Black, 52  Road Frames  ...   \n",
       "461         462       GL-H102-S      Half-Finger Gloves, S       Gloves  ...   \n",
       "463         464       GL-H102-M      Half-Finger Gloves, M       Gloves  ...   \n",
       "465         466       GL-H102-L      Half-Finger Gloves, L       Gloves  ...   \n",
       "\n",
       "    Product Line  Product Model Name  \\\n",
       "211           S            Sport-100   \n",
       "212           S            Sport-100   \n",
       "214           S            Sport-100   \n",
       "215           S            Sport-100   \n",
       "219           S            Sport-100   \n",
       "..           ...                 ...   \n",
       "440           R        HL Road Frame   \n",
       "442           R        HL Road Frame   \n",
       "461           S   Half-Finger Gloves   \n",
       "463           S   Half-Finger Gloves   \n",
       "465           S   Half-Finger Gloves   \n",
       "\n",
       "                                   Product Description Product Status  \n",
       "211  Universal fit, well-vented, lightweight , snap...        Outdate  \n",
       "212  Universal fit, well-vented, lightweight , snap...        Outdate  \n",
       "214  Universal fit, well-vented, lightweight , snap...        Outdate  \n",
       "215  Universal fit, well-vented, lightweight , snap...        Outdate  \n",
       "219  Universal fit, well-vented, lightweight , snap...        Outdate  \n",
       "..                                                 ...            ...  \n",
       "440  Our lightest and best quality aluminum frame m...        Outdate  \n",
       "442  Our lightest and best quality aluminum frame m...        Outdate  \n",
       "461  Full padding, improved finger flex, durable pa...        Outdate  \n",
       "463  Full padding, improved finger flex, durable pa...        Outdate  \n",
       "465  Full padding, improved finger flex, durable pa...        Outdate  \n",
       "\n",
       "[102 rows x 11 columns]"
      ]
     },
     "execution_count": 16,
     "metadata": {},
     "output_type": "execute_result"
    }
   ],
   "source": [
    "print(df_products.duplicated(subset=['ProductItemCode'],keep='last').value_counts())\n",
    "df_products[df_products.duplicated(subset=['ProductItemCode'],keep='last')]"
   ]
  },
  {
   "cell_type": "markdown",
   "id": "8d382fc6",
   "metadata": {},
   "source": [
    "As you can see, there are 102 duplicated values based on ProductItemCode column. Most of them have the same ProductItemCode and Product Name but only differ in Product Status, so this leads to duplicated rows"
   ]
  },
  {
   "cell_type": "code",
   "execution_count": 17,
   "id": "42dee58b",
   "metadata": {},
   "outputs": [
    {
     "data": {
      "text/html": [
       "<div>\n",
       "<style scoped>\n",
       "    .dataframe tbody tr th:only-of-type {\n",
       "        vertical-align: middle;\n",
       "    }\n",
       "\n",
       "    .dataframe tbody tr th {\n",
       "        vertical-align: top;\n",
       "    }\n",
       "\n",
       "    .dataframe thead th {\n",
       "        text-align: right;\n",
       "    }\n",
       "</style>\n",
       "<table border=\"1\" class=\"dataframe\">\n",
       "  <thead>\n",
       "    <tr style=\"text-align: right;\">\n",
       "      <th></th>\n",
       "      <th>ProductKey</th>\n",
       "      <th>ProductItemCode</th>\n",
       "      <th>Product Name</th>\n",
       "      <th>Sub Category</th>\n",
       "      <th>...</th>\n",
       "      <th>Product Line</th>\n",
       "      <th>Product Model Name</th>\n",
       "      <th>Product Description</th>\n",
       "      <th>Product Status</th>\n",
       "    </tr>\n",
       "  </thead>\n",
       "  <tbody>\n",
       "    <tr>\n",
       "      <th>211</th>\n",
       "      <td>212</td>\n",
       "      <td>HL-U509-R</td>\n",
       "      <td>Sport-100 Helmet, Red</td>\n",
       "      <td>Helmets</td>\n",
       "      <td>...</td>\n",
       "      <td>S</td>\n",
       "      <td>Sport-100</td>\n",
       "      <td>Universal fit, well-vented, lightweight , snap...</td>\n",
       "      <td>Outdate</td>\n",
       "    </tr>\n",
       "    <tr>\n",
       "      <th>212</th>\n",
       "      <td>213</td>\n",
       "      <td>HL-U509-R</td>\n",
       "      <td>Sport-100 Helmet, Red</td>\n",
       "      <td>Helmets</td>\n",
       "      <td>...</td>\n",
       "      <td>S</td>\n",
       "      <td>Sport-100</td>\n",
       "      <td>Universal fit, well-vented, lightweight , snap...</td>\n",
       "      <td>Outdate</td>\n",
       "    </tr>\n",
       "    <tr>\n",
       "      <th>213</th>\n",
       "      <td>214</td>\n",
       "      <td>HL-U509-R</td>\n",
       "      <td>Sport-100 Helmet, Red</td>\n",
       "      <td>Helmets</td>\n",
       "      <td>...</td>\n",
       "      <td>S</td>\n",
       "      <td>Sport-100</td>\n",
       "      <td>Universal fit, well-vented, lightweight , snap...</td>\n",
       "      <td>Current</td>\n",
       "    </tr>\n",
       "  </tbody>\n",
       "</table>\n",
       "<p>3 rows × 11 columns</p>\n",
       "</div>"
      ],
      "text/plain": [
       "     ProductKey ProductItemCode           Product Name Sub Category  ...  \\\n",
       "211         212       HL-U509-R  Sport-100 Helmet, Red      Helmets  ...   \n",
       "212         213       HL-U509-R  Sport-100 Helmet, Red      Helmets  ...   \n",
       "213         214       HL-U509-R  Sport-100 Helmet, Red      Helmets  ...   \n",
       "\n",
       "    Product Line Product Model Name  \\\n",
       "211           S           Sport-100   \n",
       "212           S           Sport-100   \n",
       "213           S           Sport-100   \n",
       "\n",
       "                                   Product Description Product Status  \n",
       "211  Universal fit, well-vented, lightweight , snap...        Outdate  \n",
       "212  Universal fit, well-vented, lightweight , snap...        Outdate  \n",
       "213  Universal fit, well-vented, lightweight , snap...        Current  \n",
       "\n",
       "[3 rows x 11 columns]"
      ]
     },
     "execution_count": 17,
     "metadata": {},
     "output_type": "execute_result"
    }
   ],
   "source": [
    "df_products[df_products['ProductItemCode']=='HL-U509-R']"
   ]
  },
  {
   "cell_type": "markdown",
   "id": "491ea59f",
   "metadata": {},
   "source": [
    "For example, Product with code HL-U509-R has 2 duplicated rows because of Product status. When deleteing, we only need to keep the last raw and remove the others <br>\n",
    "But before deleting the duplicate values in Products table , we need to change ProductKey on df_sales because some of them are duplicated. We can do this by joining 2 tables and keep ProductItemCode for later use"
   ]
  },
  {
   "cell_type": "code",
   "execution_count": 18,
   "id": "b6432071",
   "metadata": {
    "scrolled": true
   },
   "outputs": [],
   "source": [
    "# Joining 2 tables and keep ProductItemCode for df_sales\n",
    "df_tempSales=pd.merge(df_products[['ProductKey','ProductItemCode']], df_sales, on='ProductKey', how='inner')\n",
    "\n",
    "# Drop duplicates\n",
    "df_products=df_products.drop_duplicates(subset=['ProductItemCode'],keep='last')\n"
   ]
  },
  {
   "cell_type": "code",
   "execution_count": 19,
   "id": "b552b3a3",
   "metadata": {},
   "outputs": [
    {
     "data": {
      "text/html": [
       "<div>\n",
       "<style scoped>\n",
       "    .dataframe tbody tr th:only-of-type {\n",
       "        vertical-align: middle;\n",
       "    }\n",
       "\n",
       "    .dataframe tbody tr th {\n",
       "        vertical-align: top;\n",
       "    }\n",
       "\n",
       "    .dataframe thead th {\n",
       "        text-align: right;\n",
       "    }\n",
       "</style>\n",
       "<table border=\"1\" class=\"dataframe\">\n",
       "  <thead>\n",
       "    <tr style=\"text-align: right;\">\n",
       "      <th></th>\n",
       "      <th>ProductKey</th>\n",
       "      <th>ProductItemCode</th>\n",
       "      <th>Product Name</th>\n",
       "      <th>Sub Category</th>\n",
       "      <th>...</th>\n",
       "      <th>Product Line</th>\n",
       "      <th>Product Model Name</th>\n",
       "      <th>Product Description</th>\n",
       "      <th>Product Status</th>\n",
       "    </tr>\n",
       "  </thead>\n",
       "  <tbody>\n",
       "    <tr>\n",
       "      <th>0</th>\n",
       "      <td>1</td>\n",
       "      <td>AR-5381</td>\n",
       "      <td>Adjustable Race</td>\n",
       "      <td>NULL</td>\n",
       "      <td>...</td>\n",
       "      <td>NULL</td>\n",
       "      <td>NULL</td>\n",
       "      <td>NULL</td>\n",
       "      <td>Current</td>\n",
       "    </tr>\n",
       "    <tr>\n",
       "      <th>1</th>\n",
       "      <td>2</td>\n",
       "      <td>BA-8327</td>\n",
       "      <td>Bearing Ball</td>\n",
       "      <td>NULL</td>\n",
       "      <td>...</td>\n",
       "      <td>NULL</td>\n",
       "      <td>NULL</td>\n",
       "      <td>NULL</td>\n",
       "      <td>Current</td>\n",
       "    </tr>\n",
       "    <tr>\n",
       "      <th>2</th>\n",
       "      <td>3</td>\n",
       "      <td>BE-2349</td>\n",
       "      <td>BB Ball Bearing</td>\n",
       "      <td>NULL</td>\n",
       "      <td>...</td>\n",
       "      <td>NULL</td>\n",
       "      <td>NULL</td>\n",
       "      <td>NULL</td>\n",
       "      <td>Current</td>\n",
       "    </tr>\n",
       "    <tr>\n",
       "      <th>3</th>\n",
       "      <td>4</td>\n",
       "      <td>BE-2908</td>\n",
       "      <td>Headset Ball Bearings</td>\n",
       "      <td>NULL</td>\n",
       "      <td>...</td>\n",
       "      <td>NULL</td>\n",
       "      <td>NULL</td>\n",
       "      <td>NULL</td>\n",
       "      <td>Current</td>\n",
       "    </tr>\n",
       "    <tr>\n",
       "      <th>4</th>\n",
       "      <td>5</td>\n",
       "      <td>BL-2036</td>\n",
       "      <td>Blade</td>\n",
       "      <td>NULL</td>\n",
       "      <td>...</td>\n",
       "      <td>NULL</td>\n",
       "      <td>NULL</td>\n",
       "      <td>NULL</td>\n",
       "      <td>Current</td>\n",
       "    </tr>\n",
       "    <tr>\n",
       "      <th>...</th>\n",
       "      <td>...</td>\n",
       "      <td>...</td>\n",
       "      <td>...</td>\n",
       "      <td>...</td>\n",
       "      <td>...</td>\n",
       "      <td>...</td>\n",
       "      <td>...</td>\n",
       "      <td>...</td>\n",
       "      <td>...</td>\n",
       "    </tr>\n",
       "    <tr>\n",
       "      <th>601</th>\n",
       "      <td>602</td>\n",
       "      <td>BB-8107</td>\n",
       "      <td>ML Bottom Bracket</td>\n",
       "      <td>Bottom Brackets</td>\n",
       "      <td>...</td>\n",
       "      <td>NULL</td>\n",
       "      <td>ML Bottom Bracket</td>\n",
       "      <td>Aluminum alloy cups; large diameter spindle.</td>\n",
       "      <td>Current</td>\n",
       "    </tr>\n",
       "    <tr>\n",
       "      <th>602</th>\n",
       "      <td>603</td>\n",
       "      <td>BB-9108</td>\n",
       "      <td>HL Bottom Bracket</td>\n",
       "      <td>Bottom Brackets</td>\n",
       "      <td>...</td>\n",
       "      <td>NULL</td>\n",
       "      <td>HL Bottom Bracket</td>\n",
       "      <td>Aluminum alloy cups and a hollow axle.</td>\n",
       "      <td>Current</td>\n",
       "    </tr>\n",
       "    <tr>\n",
       "      <th>603</th>\n",
       "      <td>604</td>\n",
       "      <td>BK-R19B-44</td>\n",
       "      <td>Road-750 Black, 44</td>\n",
       "      <td>Road Bikes</td>\n",
       "      <td>...</td>\n",
       "      <td>R</td>\n",
       "      <td>Road-750</td>\n",
       "      <td>Entry level adult bike; offers a comfortable r...</td>\n",
       "      <td>Current</td>\n",
       "    </tr>\n",
       "    <tr>\n",
       "      <th>604</th>\n",
       "      <td>605</td>\n",
       "      <td>BK-R19B-48</td>\n",
       "      <td>Road-750 Black, 48</td>\n",
       "      <td>Road Bikes</td>\n",
       "      <td>...</td>\n",
       "      <td>R</td>\n",
       "      <td>Road-750</td>\n",
       "      <td>Entry level adult bike; offers a comfortable r...</td>\n",
       "      <td>Current</td>\n",
       "    </tr>\n",
       "    <tr>\n",
       "      <th>605</th>\n",
       "      <td>606</td>\n",
       "      <td>BK-R19B-52</td>\n",
       "      <td>Road-750 Black, 52</td>\n",
       "      <td>Road Bikes</td>\n",
       "      <td>...</td>\n",
       "      <td>R</td>\n",
       "      <td>Road-750</td>\n",
       "      <td>Entry level adult bike; offers a comfortable r...</td>\n",
       "      <td>Current</td>\n",
       "    </tr>\n",
       "  </tbody>\n",
       "</table>\n",
       "<p>504 rows × 11 columns</p>\n",
       "</div>"
      ],
      "text/plain": [
       "     ProductKey ProductItemCode           Product Name     Sub Category  ...  \\\n",
       "0             1         AR-5381        Adjustable Race             NULL  ...   \n",
       "1             2         BA-8327           Bearing Ball             NULL  ...   \n",
       "2             3         BE-2349        BB Ball Bearing             NULL  ...   \n",
       "3             4         BE-2908  Headset Ball Bearings             NULL  ...   \n",
       "4             5         BL-2036                  Blade             NULL  ...   \n",
       "..          ...             ...                    ...              ...  ...   \n",
       "601         602         BB-8107      ML Bottom Bracket  Bottom Brackets  ...   \n",
       "602         603         BB-9108      HL Bottom Bracket  Bottom Brackets  ...   \n",
       "603         604      BK-R19B-44     Road-750 Black, 44       Road Bikes  ...   \n",
       "604         605      BK-R19B-48     Road-750 Black, 48       Road Bikes  ...   \n",
       "605         606      BK-R19B-52     Road-750 Black, 52       Road Bikes  ...   \n",
       "\n",
       "    Product Line Product Model Name  \\\n",
       "0           NULL               NULL   \n",
       "1           NULL               NULL   \n",
       "2           NULL               NULL   \n",
       "3           NULL               NULL   \n",
       "4           NULL               NULL   \n",
       "..           ...                ...   \n",
       "601         NULL  ML Bottom Bracket   \n",
       "602         NULL  HL Bottom Bracket   \n",
       "603           R            Road-750   \n",
       "604           R            Road-750   \n",
       "605           R            Road-750   \n",
       "\n",
       "                                   Product Description Product Status  \n",
       "0                                                 NULL        Current  \n",
       "1                                                 NULL        Current  \n",
       "2                                                 NULL        Current  \n",
       "3                                                 NULL        Current  \n",
       "4                                                 NULL        Current  \n",
       "..                                                 ...            ...  \n",
       "601       Aluminum alloy cups; large diameter spindle.        Current  \n",
       "602             Aluminum alloy cups and a hollow axle.        Current  \n",
       "603  Entry level adult bike; offers a comfortable r...        Current  \n",
       "604  Entry level adult bike; offers a comfortable r...        Current  \n",
       "605  Entry level adult bike; offers a comfortable r...        Current  \n",
       "\n",
       "[504 rows x 11 columns]"
      ]
     },
     "execution_count": 19,
     "metadata": {},
     "output_type": "execute_result"
    }
   ],
   "source": [
    "df_products"
   ]
  },
  {
   "cell_type": "code",
   "execution_count": 20,
   "id": "2b7b576c",
   "metadata": {},
   "outputs": [
    {
     "data": {
      "text/plain": [
       "133"
      ]
     },
     "execution_count": 20,
     "metadata": {},
     "output_type": "execute_result"
    }
   ],
   "source": [
    "df_tempSales['ProductKey'].nunique()"
   ]
  },
  {
   "cell_type": "code",
   "execution_count": 21,
   "id": "85bb51e9",
   "metadata": {
    "scrolled": true
   },
   "outputs": [],
   "source": [
    "# Join 2 tables again\n",
    "df_tempSales=pd.merge(df_products[['ProductKey','ProductItemCode']], df_tempSales, on='ProductItemCode', how='inner',suffixes=['_1','_2'])\n",
    "\n",
    "# Replace the old duplicated Product key with new Product key (without duplicated)\n",
    "df_tempSales['ProductKey']=df_tempSales['ProductKey_1']\n",
    "\n",
    "# Drop excessed columns\n",
    "df_tempSales=df_tempSales.drop(['ProductKey_1','ProductKey_2'],axis=1)\n",
    "df_sales=df_tempSales.copy(deep=True)"
   ]
  },
  {
   "cell_type": "code",
   "execution_count": 22,
   "id": "9f93edcf",
   "metadata": {
    "scrolled": true
   },
   "outputs": [
    {
     "name": "stdout",
     "output_type": "stream",
     "text": [
      "<class 'pandas.core.frame.DataFrame'>\n",
      "Int64Index: 58168 entries, 0 to 58167\n",
      "Data columns (total 8 columns):\n",
      " #   Column            Non-Null Count  Dtype  \n",
      "---  ------            --------------  -----  \n",
      " 0   ProductItemCode   58168 non-null  object \n",
      " 1   OrderDateKey      58168 non-null  int64  \n",
      " 2   DueDateKey        58168 non-null  int64  \n",
      " 3   ShipDateKey       58168 non-null  int64  \n",
      " 4   CustomerKey       58168 non-null  int64  \n",
      " 5   SalesOrderNumber  58168 non-null  object \n",
      " 6   SalesAmount       58168 non-null  float64\n",
      " 7   ProductKey        58168 non-null  int64  \n",
      "dtypes: float64(1), int64(5), object(2)\n",
      "memory usage: 4.0+ MB\n"
     ]
    },
    {
     "data": {
      "text/plain": [
       "117"
      ]
     },
     "execution_count": 22,
     "metadata": {},
     "output_type": "execute_result"
    }
   ],
   "source": [
    "df_sales.info()\n",
    "df_sales['ProductKey'].nunique()"
   ]
  },
  {
   "cell_type": "markdown",
   "id": "586bd76b",
   "metadata": {},
   "source": [
    "### b. Customer table"
   ]
  },
  {
   "cell_type": "markdown",
   "id": "2befa6f6",
   "metadata": {},
   "source": [
    "We determine duplicated customer based on 4 columns: First name, Last name, DateFirstPurchase, Customer CIty"
   ]
  },
  {
   "cell_type": "code",
   "execution_count": 23,
   "id": "67b61d66",
   "metadata": {},
   "outputs": [
    {
     "data": {
      "text/plain": [
       "(18484, 7)"
      ]
     },
     "execution_count": 23,
     "metadata": {},
     "output_type": "execute_result"
    }
   ],
   "source": [
    "df_customers.shape"
   ]
  },
  {
   "cell_type": "code",
   "execution_count": 24,
   "id": "eb2f3a19",
   "metadata": {
    "scrolled": true
   },
   "outputs": [
    {
     "data": {
      "text/plain": [
       "(18484, 7)"
      ]
     },
     "execution_count": 24,
     "metadata": {},
     "output_type": "execute_result"
    }
   ],
   "source": [
    "df_customers=df_customers.drop_duplicates(subset=['First Name','Last Name','DateFirstPurchase','Customer City'],keep='last')\n",
    "df_customers.shape"
   ]
  },
  {
   "cell_type": "markdown",
   "id": "1119b6f4",
   "metadata": {},
   "source": [
    "We can cleary see that customer table does not have duplicated value because row number is the same after deleted"
   ]
  },
  {
   "cell_type": "markdown",
   "id": "2a57694e",
   "metadata": {},
   "source": [
    "### c. Import Product and Sales table to .csv after preprocessing and ready to use it for our Dashboard"
   ]
  },
  {
   "cell_type": "code",
   "execution_count": 26,
   "id": "7bfab436",
   "metadata": {},
   "outputs": [],
   "source": [
    "df_products.to_csv('Products_edited.csv')\n",
    "df_sales.to_csv('Sales_edited.csv')"
   ]
  }
 ],
 "metadata": {
  "kernelspec": {
   "display_name": "Python 3 (ipykernel)",
   "language": "python",
   "name": "python3"
  },
  "language_info": {
   "codemirror_mode": {
    "name": "ipython",
    "version": 3
   },
   "file_extension": ".py",
   "mimetype": "text/x-python",
   "name": "python",
   "nbconvert_exporter": "python",
   "pygments_lexer": "ipython3",
   "version": "3.8.8"
  },
  "toc": {
   "base_numbering": 1,
   "nav_menu": {},
   "number_sections": false,
   "sideBar": true,
   "skip_h1_title": false,
   "title_cell": "Table of Contents",
   "title_sidebar": "Contents",
   "toc_cell": false,
   "toc_position": {
    "height": "calc(100% - 180px)",
    "left": "10px",
    "top": "150px",
    "width": "165px"
   },
   "toc_section_display": true,
   "toc_window_display": true
  }
 },
 "nbformat": 4,
 "nbformat_minor": 5
}
