{
 "cells": [
  {
   "cell_type": "markdown",
   "id": "ed3f2f82",
   "metadata": {},
   "source": [
    "### Please install these libraries below to avoid error when running the scripts"
   ]
  },
  {
   "cell_type": "markdown",
   "id": "817ea672",
   "metadata": {},
   "source": [
    "- pip install webdriver-manager\n",
    "- pip install beautifulsoup4\n",
    "- pip install lxml\n",
    "- pip install selenium\n",
    "- pip install pandas\n",
    "- pip install matplotlib\n",
    "- pip install numpy"
   ]
  },
  {
   "cell_type": "code",
   "execution_count": 2,
   "id": "5bf5a8ac",
   "metadata": {},
   "outputs": [],
   "source": [
    "import requests \n",
    "from bs4 import BeautifulSoup\n",
    "import pandas as pd\n",
    "import numpy as np\n",
    "import re\n",
    "import time\n",
    "\n",
    "from selenium import webdriver\n",
    "from selenium.webdriver.chrome.options import Options\n",
    "from selenium.webdriver.common.by import By\n",
    "from selenium.common.exceptions import TimeoutException\n",
    "from selenium.webdriver.support.ui import WebDriverWait\n",
    "from selenium.webdriver.support import expected_conditions as EC\n",
    "from selenium.webdriver.common.by import By\n",
    "from webdriver_manager.chrome import ChromeDriverManager"
   ]
  },
  {
   "cell_type": "markdown",
   "id": "bac890ca",
   "metadata": {},
   "source": [
    "### Get Price and Total sale of product\n",
    "- We will get sales of each product by removing unwanted characters and keeping only numbers. \n",
    "- **'k'** character in sale number means 1000, so 20k means 20000 products have been sold \n",
    "- Any product does not have sales record will be replaced with 0"
   ]
  },
  {
   "cell_type": "code",
   "execution_count": 3,
   "id": "6c31f219",
   "metadata": {},
   "outputs": [],
   "source": [
    "def getPrice(prices):\n",
    "    price_list=[]\n",
    "    for pri in prices:\n",
    "        # Remove all special character\n",
    "        price_product=pri.text\n",
    "        price_product=price_product.replace('₫','').replace('.','').replace(' ','')\n",
    "        \n",
    "        # If product has 2 different price tags then splits and take the lowest\n",
    "        price_product=price_product.split('-')\n",
    "        price_product=price_product[0]\n",
    "        price_list.append(price_product)\n",
    "    \n",
    "    # Remove empty element at the end of the list\n",
    "    if(len(price_list)>1):\n",
    "        price_list=price_list[0:-1]\n",
    "    \n",
    "    # If product has no discounted price (length=1) then add the normal price to it\n",
    "    if(len(price_list)==1):\n",
    "        price_list.append(price_list[0])\n",
    "    \n",
    "    return (price_list[0],price_list[1])"
   ]
  },
  {
   "cell_type": "code",
   "execution_count": null,
   "id": "35409997",
   "metadata": {},
   "outputs": [],
   "source": [
    "def getSell(text):\n",
    "    text=text.replace(',','.')\n",
    "    if('k' in text):\n",
    "        text=re.sub('[^\\d\\.]', '', text)\n",
    "        text=float(text)*1000\n",
    "    elif(text==''):\n",
    "        return 0\n",
    "    else:\n",
    "        text=re.sub('[^\\d\\.]', '', text)\n",
    "        text=float(text)\n",
    "    return int(text)"
   ]
  },
  {
   "cell_type": "markdown",
   "id": "ba45c46f",
   "metadata": {},
   "source": [
    "### Main function"
   ]
  },
  {
   "cell_type": "code",
   "execution_count": 16,
   "id": "c8fd539a",
   "metadata": {},
   "outputs": [],
   "source": [
    "def scrape_shopee_products(url):\n",
    "    # create a new Chrome session\n",
    "    options = Options()\n",
    "    options.headless = True\n",
    "    driver = webdriver.Chrome(ChromeDriverManager().install(),options=options)\n",
    "    driver.get(url)\n",
    "\n",
    "    # Get total page\n",
    "    delay = 10 #seconds\n",
    "    try:\n",
    "        myElem = WebDriverWait(driver, delay).until(EC.presence_of_element_located\n",
    "                                                    ((By.XPATH, \"//span[@class='shopee-mini-page-controller__total']\")))\n",
    "        print(\"Found total page\")\n",
    "    except TimeoutException:\n",
    "        print(\"Error\")\n",
    "            \n",
    "    soup = BeautifulSoup(driver.page_source)\n",
    "    total_page=soup.select_one('span[class=\"shopee-mini-page-controller__total\"]').text\n",
    "    total_page=int(total_page)\n",
    "\n",
    "    # Get url for each shopee page\n",
    "    url_list=[]\n",
    "    template=url+'?page={0}&sortBy=pop'\n",
    "    for i in range(total_page):\n",
    "        url=template.format(i)\n",
    "        url_list.append(url)\n",
    "\n",
    "    print('Total page: ',total_page)\n",
    "\n",
    "    # Loop through each page and scrape all products\n",
    "    name_list=[]\n",
    "    price_list=[]\n",
    "    discounted_price_list=[]\n",
    "    sell_list=[]\n",
    "    url_list=[]\n",
    "    current_page=1\n",
    "\n",
    "    for url in url_list:\n",
    "        driver = webdriver.Chrome(ChromeDriverManager().install(),options=options)\n",
    "        driver.get(url)\n",
    "\n",
    "        delay = 10 #seconds\n",
    "        try:\n",
    "            myElem = WebDriverWait(driver, delay).until(EC.presence_of_element_located\n",
    "                                                        ((By.XPATH, \"//div[@class='shop-search-result-view__item col-xs-2-4']\")))\n",
    "            print(\"Page is ready!\")\n",
    "        except TimeoutException:\n",
    "            print(\"Loading took too much time!\")\n",
    "\n",
    "        soup = BeautifulSoup(driver.page_source)\n",
    "        products_selector=soup.select('div[class=\"shop-search-result-view__item col-xs-2-4\"]')\n",
    "        print(\"Current page: \",current_page)\n",
    "        current_page+=1\n",
    "        print(\"total products in this page\",len(products_selector))\n",
    "\n",
    "        for prod in products_selector:\n",
    "            # Get name of product\n",
    "            name=prod.select_one('div[class=\"_3Gla5X _2j2K92 _3j20V6\"]')\n",
    "\n",
    "            # Price and discounted price if product has\n",
    "            prices_selector=prod.select_one('div[class=\"_3CsOH6\"]')\n",
    "            normal_price,discounted_price=getPrice(prices_selector)\n",
    "\n",
    "            # Total sell\n",
    "            total_sell=prod.select_one('div[class=\"_3UeJ1q\"]')\n",
    "\n",
    "            name_list.append(name.text)\n",
    "            price_list.append(normal_price)\n",
    "            discounted_price_list.append(discounted_price)\n",
    "            sell_list.append(getSell(total_sell.text))\n",
    "\n",
    "        # Create dataframe based on scarped products\n",
    "        df = pd.DataFrame(columns=['name','price','discount_price','total_sell'])\n",
    "        df['name']=name_list\n",
    "        df['price']=price_list\n",
    "        df['discount_price']=discounted_price_list\n",
    "        df['total_sell']=sell_list\n",
    "        \n",
    "        # Calculate revenue\n",
    "        df['price']=df['price'].astype(int)\n",
    "        df['discount_price']=df['discount_price'].astype(int)\n",
    "        df['revenue']=df['price']*df['total_sell']\n",
    "        \n",
    "        df.to_csv('product.csv',encoding='utf-8-sig',index=False)\n",
    "    return df"
   ]
  },
  {
   "cell_type": "code",
   "execution_count": 17,
   "id": "8ad9c08e",
   "metadata": {
    "scrolled": true
   },
   "outputs": [
    {
     "name": "stderr",
     "output_type": "stream",
     "text": [
      "<ipython-input-16-6a1e10461aaa>:5: DeprecationWarning: executable_path has been deprecated, please pass in a Service object\n",
      "  driver = webdriver.Chrome(ChromeDriverManager().install(),options=options)\n"
     ]
    },
    {
     "name": "stdout",
     "output_type": "stream",
     "text": [
      "Found total page\n",
      "Total page:  8\n"
     ]
    },
    {
     "name": "stderr",
     "output_type": "stream",
     "text": [
      "<ipython-input-16-6a1e10461aaa>:38: DeprecationWarning: executable_path has been deprecated, please pass in a Service object\n",
      "  driver = webdriver.Chrome(ChromeDriverManager().install(),options=options)\n"
     ]
    },
    {
     "name": "stdout",
     "output_type": "stream",
     "text": [
      "Page is ready!\n",
      "Current page:  1\n",
      "total products in this page 30\n",
      "Page is ready!\n",
      "Current page:  2\n",
      "total products in this page 30\n",
      "Page is ready!\n",
      "Current page:  3\n",
      "total products in this page 30\n",
      "Page is ready!\n",
      "Current page:  4\n",
      "total products in this page 30\n",
      "Page is ready!\n",
      "Current page:  5\n",
      "total products in this page 30\n",
      "Page is ready!\n",
      "Current page:  6\n",
      "total products in this page 30\n",
      "Page is ready!\n",
      "Current page:  7\n",
      "total products in this page 30\n",
      "Page is ready!\n",
      "Current page:  8\n",
      "total products in this page 4\n",
      "<class 'pandas.core.frame.DataFrame'>\n",
      "RangeIndex: 214 entries, 0 to 213\n",
      "Data columns (total 5 columns):\n",
      " #   Column          Non-Null Count  Dtype \n",
      "---  ------          --------------  ----- \n",
      " 0   name            214 non-null    object\n",
      " 1   price           214 non-null    int32 \n",
      " 2   discount_price  214 non-null    int32 \n",
      " 3   total_sell      214 non-null    int64 \n",
      " 4   revenue         214 non-null    int64 \n",
      "dtypes: int32(2), int64(2), object(1)\n",
      "memory usage: 6.8+ KB\n"
     ]
    }
   ],
   "source": [
    "# Change URL to any shopee store you like, the program will automatically scrape it\n",
    "url = 'https://shopee.vn/coolmate.vn'\n",
    "df=scrape_shopee_products(url)"
   ]
  },
  {
   "cell_type": "code",
   "execution_count": null,
   "id": "04cb342b",
   "metadata": {},
   "outputs": [],
   "source": [
    "df.info()\n",
    "df.head(5)"
   ]
  }
 ],
 "metadata": {
  "kernelspec": {
   "display_name": "Python 3",
   "language": "python",
   "name": "python3"
  },
  "language_info": {
   "codemirror_mode": {
    "name": "ipython",
    "version": 3
   },
   "file_extension": ".py",
   "mimetype": "text/x-python",
   "name": "python",
   "nbconvert_exporter": "python",
   "pygments_lexer": "ipython3",
   "version": "3.9.7"
  },
  "toc": {
   "base_numbering": 1,
   "nav_menu": {},
   "number_sections": true,
   "sideBar": true,
   "skip_h1_title": false,
   "title_cell": "Table of Contents",
   "title_sidebar": "Contents",
   "toc_cell": false,
   "toc_position": {},
   "toc_section_display": true,
   "toc_window_display": false
  }
 },
 "nbformat": 4,
 "nbformat_minor": 5
}
