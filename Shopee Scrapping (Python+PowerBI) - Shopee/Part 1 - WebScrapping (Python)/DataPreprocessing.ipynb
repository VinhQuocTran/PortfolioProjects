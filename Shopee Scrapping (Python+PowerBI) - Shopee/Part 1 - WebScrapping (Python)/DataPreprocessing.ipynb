{
 "cells": [
  {
   "cell_type": "code",
   "execution_count": 59,
   "id": "0b879236",
   "metadata": {},
   "outputs": [],
   "source": [
    "import seaborn as sns\n",
    "import csv,json,os,statistics,time\n",
    "import datetime as dt\n",
    "import numpy as np\n",
    "import pandas as pd\n",
    "import requests\n",
    "import matplotlib.pyplot as plt\n",
    "import praw\n",
    "import time\n",
    "import re\n",
    "import nltk\n",
    "from operator import itemgetter"
   ]
  },
  {
   "cell_type": "markdown",
   "id": "e0fdefd2",
   "metadata": {},
   "source": [
    "# Feature Engineering"
   ]
  },
  {
   "cell_type": "code",
   "execution_count": 60,
   "id": "d708e241",
   "metadata": {},
   "outputs": [
    {
     "name": "stdout",
     "output_type": "stream",
     "text": [
      "<class 'pandas.core.frame.DataFrame'>\n",
      "RangeIndex: 215 entries, 0 to 214\n",
      "Data columns (total 5 columns):\n",
      " #   Column          Non-Null Count  Dtype \n",
      "---  ------          --------------  ----- \n",
      " 0   name            215 non-null    object\n",
      " 1   money           215 non-null    object\n",
      " 2   money_discount  215 non-null    object\n",
      " 3   total_sell      203 non-null    object\n",
      " 4   link            215 non-null    object\n",
      "dtypes: object(5)\n",
      "memory usage: 8.5+ KB\n"
     ]
    }
   ],
   "source": [
    "df=pd.read_csv('product.csv')\n",
    "df.info()"
   ]
  },
  {
   "cell_type": "markdown",
   "id": "af285c08",
   "metadata": {},
   "source": [
    "## Get total sales\n",
    "- We will get sales of each product by removing unwanted characters and keeping only numbers. \n",
    "- **'k'** character in sale number means 1000, so 20k means 20000 products have been sold \n",
    "- Any product does not have sales record will be replaced with 0"
   ]
  },
  {
   "cell_type": "code",
   "execution_count": 61,
   "id": "11d61a50",
   "metadata": {
    "scrolled": true
   },
   "outputs": [
    {
     "data": {
      "text/plain": [
       "0      40100\n",
       "1      30100\n",
       "2      37100\n",
       "3      21400\n",
       "4      14800\n",
       "       ...  \n",
       "210        5\n",
       "211        0\n",
       "212        0\n",
       "213        0\n",
       "214        0\n",
       "Name: total_sell, Length: 215, dtype: int64"
      ]
     },
     "execution_count": 61,
     "metadata": {},
     "output_type": "execute_result"
    }
   ],
   "source": [
    "def getSales(sales):\n",
    "    if(isNaN(sales)):\n",
    "        return 0\n",
    "    else:\n",
    "        numSales=sales.split(' ')[2]\n",
    "        numSales=numSales.replace(',','.')\n",
    "        if('k' in numSales):\n",
    "            numSales=numSales.replace('k','')\n",
    "            numSales=float(numSales)*1000\n",
    "        else:\n",
    "            numSales=float(numSales)\n",
    "        return int(numSales)\n",
    "    \n",
    "def isNaN(num):\n",
    "    return num != num\n",
    "            \n",
    "\n",
    "df['total_sell']=df['total_sell'].apply(getSales)\n",
    "df['total_sell']"
   ]
  },
  {
   "cell_type": "markdown",
   "id": "780e2800",
   "metadata": {},
   "source": [
    "## Get category of product\n",
    "- The Shopee page which I scraped is in vietnamese language, but you don't need to worry about it. I already translated all categories for you in the below section\n",
    "- If you want make sure every product's category is correct, you can get URL of it and check it yourself"
   ]
  },
  {
   "cell_type": "code",
   "execution_count": 62,
   "id": "6deeb441",
   "metadata": {
    "scrolled": true
   },
   "outputs": [],
   "source": [
    "def getCategory(name):\n",
    "    name=name.lower()\n",
    "    if('áo' in name):\n",
    "        return 'shirt'\n",
    "    elif ('quần' in name):\n",
    "        return 'pant'\n",
    "    elif (('mũ' in name) or ('nón' in name)):\n",
    "        return 'hat'\n",
    "    elif (('vớ' in name) or ('tất' in name)):\n",
    "        return 'sock'\n",
    "    else:\n",
    "        return 'other'"
   ]
  },
  {
   "cell_type": "code",
   "execution_count": 63,
   "id": "92331186",
   "metadata": {
    "scrolled": true
   },
   "outputs": [
    {
     "name": "stdout",
     "output_type": "stream",
     "text": [
      "shirt    109\n",
      "pant      74\n",
      "other     11\n",
      "sock      11\n",
      "hat       10\n",
      "Name: category, dtype: int64\n"
     ]
    },
    {
     "data": {
      "text/html": [
       "<div>\n",
       "<style scoped>\n",
       "    .dataframe tbody tr th:only-of-type {\n",
       "        vertical-align: middle;\n",
       "    }\n",
       "\n",
       "    .dataframe tbody tr th {\n",
       "        vertical-align: top;\n",
       "    }\n",
       "\n",
       "    .dataframe thead th {\n",
       "        text-align: right;\n",
       "    }\n",
       "</style>\n",
       "<table border=\"1\" class=\"dataframe\">\n",
       "  <thead>\n",
       "    <tr style=\"text-align: right;\">\n",
       "      <th></th>\n",
       "      <th>name</th>\n",
       "      <th>money</th>\n",
       "      <th>money_discount</th>\n",
       "      <th>total_sell</th>\n",
       "      <th>link</th>\n",
       "      <th>category</th>\n",
       "    </tr>\n",
       "  </thead>\n",
       "  <tbody>\n",
       "    <tr>\n",
       "      <th>0</th>\n",
       "      <td>Áo thun nam Cotton Compact phiên bản Premium c...</td>\n",
       "      <td>259000</td>\n",
       "      <td>149000</td>\n",
       "      <td>40100</td>\n",
       "      <td>https://shopee.vn//Áo-thun-nam-Cotton-Compact-...</td>\n",
       "      <td>shirt</td>\n",
       "    </tr>\n",
       "    <tr>\n",
       "      <th>5</th>\n",
       "      <td>Áo thun nam 100% Cotton USA Coolmate Basics th...</td>\n",
       "      <td>119000</td>\n",
       "      <td>115000</td>\n",
       "      <td>32200</td>\n",
       "      <td>https://shopee.vn//Áo-thun-nam-100-Cotton-USA-...</td>\n",
       "      <td>shirt</td>\n",
       "    </tr>\n",
       "    <tr>\n",
       "      <th>7</th>\n",
       "      <td>Áo thun nam DÀI TAY Cotton Compact Premium chố...</td>\n",
       "      <td>269000</td>\n",
       "      <td>129000</td>\n",
       "      <td>14600</td>\n",
       "      <td>https://shopee.vn//Áo-thun-nam-DÀI-TAY-Cotton-...</td>\n",
       "      <td>shirt</td>\n",
       "    </tr>\n",
       "    <tr>\n",
       "      <th>9</th>\n",
       "      <td>Áo sát nách thể thao nam Dri-Breathe thoáng má...</td>\n",
       "      <td>189000</td>\n",
       "      <td>159000</td>\n",
       "      <td>5000</td>\n",
       "      <td>https://shopee.vn//Áo-sát-nách-thể-thao-nam-Dr...</td>\n",
       "      <td>shirt</td>\n",
       "    </tr>\n",
       "    <tr>\n",
       "      <th>10</th>\n",
       "      <td>Áo Polo thể thao nam ProMax-S1 Logo thương hiệ...</td>\n",
       "      <td>159000-199000</td>\n",
       "      <td>159000-199000</td>\n",
       "      <td>14600</td>\n",
       "      <td>https://shopee.vn//Áo-Polo-thể-thao-nam-ProMax...</td>\n",
       "      <td>shirt</td>\n",
       "    </tr>\n",
       "    <tr>\n",
       "      <th>...</th>\n",
       "      <td>...</td>\n",
       "      <td>...</td>\n",
       "      <td>...</td>\n",
       "      <td>...</td>\n",
       "      <td>...</td>\n",
       "      <td>...</td>\n",
       "    </tr>\n",
       "    <tr>\n",
       "      <th>207</th>\n",
       "      <td>Áo thun nam Cotton Compact phiên bản Premium c...</td>\n",
       "      <td>259000</td>\n",
       "      <td>259000</td>\n",
       "      <td>812</td>\n",
       "      <td>https://shopee.vn//Áo-thun-nam-Cotton-Compact-...</td>\n",
       "      <td>shirt</td>\n",
       "    </tr>\n",
       "    <tr>\n",
       "      <th>211</th>\n",
       "      <td>Áo thun thể thao nam Recycle Active V1 thoáng ...</td>\n",
       "      <td>169000</td>\n",
       "      <td>169000</td>\n",
       "      <td>0</td>\n",
       "      <td>https://shopee.vn//Áo-thun-thể-thao-nam-Recycl...</td>\n",
       "      <td>shirt</td>\n",
       "    </tr>\n",
       "    <tr>\n",
       "      <th>212</th>\n",
       "      <td>Áo Polo thể thao nam Recycle Active V1 thoáng ...</td>\n",
       "      <td>249000</td>\n",
       "      <td>249000</td>\n",
       "      <td>0</td>\n",
       "      <td>https://shopee.vn//Áo-Polo-thể-thao-nam-Recycl...</td>\n",
       "      <td>shirt</td>\n",
       "    </tr>\n",
       "    <tr>\n",
       "      <th>213</th>\n",
       "      <td>Áo Polo thể thao nam Recycle Active V2 thoáng ...</td>\n",
       "      <td>249000</td>\n",
       "      <td>249000</td>\n",
       "      <td>0</td>\n",
       "      <td>https://shopee.vn//Áo-Polo-thể-thao-nam-Recycl...</td>\n",
       "      <td>shirt</td>\n",
       "    </tr>\n",
       "    <tr>\n",
       "      <th>214</th>\n",
       "      <td>Áo Tank Top thể thao nam Recycle Active V1 tho...</td>\n",
       "      <td>159000</td>\n",
       "      <td>159000</td>\n",
       "      <td>0</td>\n",
       "      <td>https://shopee.vn//Áo-Tank-Top-thể-thao-nam-Re...</td>\n",
       "      <td>shirt</td>\n",
       "    </tr>\n",
       "  </tbody>\n",
       "</table>\n",
       "<p>109 rows × 6 columns</p>\n",
       "</div>"
      ],
      "text/plain": [
       "                                                  name          money  \\\n",
       "0    Áo thun nam Cotton Compact phiên bản Premium c...         259000   \n",
       "5    Áo thun nam 100% Cotton USA Coolmate Basics th...         119000   \n",
       "7    Áo thun nam DÀI TAY Cotton Compact Premium chố...         269000   \n",
       "9    Áo sát nách thể thao nam Dri-Breathe thoáng má...         189000   \n",
       "10   Áo Polo thể thao nam ProMax-S1 Logo thương hiệ...  159000-199000   \n",
       "..                                                 ...            ...   \n",
       "207  Áo thun nam Cotton Compact phiên bản Premium c...         259000   \n",
       "211  Áo thun thể thao nam Recycle Active V1 thoáng ...         169000   \n",
       "212  Áo Polo thể thao nam Recycle Active V1 thoáng ...         249000   \n",
       "213  Áo Polo thể thao nam Recycle Active V2 thoáng ...         249000   \n",
       "214  Áo Tank Top thể thao nam Recycle Active V1 tho...         159000   \n",
       "\n",
       "    money_discount  total_sell  \\\n",
       "0           149000       40100   \n",
       "5           115000       32200   \n",
       "7           129000       14600   \n",
       "9           159000        5000   \n",
       "10   159000-199000       14600   \n",
       "..             ...         ...   \n",
       "207         259000         812   \n",
       "211         169000           0   \n",
       "212         249000           0   \n",
       "213         249000           0   \n",
       "214         159000           0   \n",
       "\n",
       "                                                  link category  \n",
       "0    https://shopee.vn//Áo-thun-nam-Cotton-Compact-...    shirt  \n",
       "5    https://shopee.vn//Áo-thun-nam-100-Cotton-USA-...    shirt  \n",
       "7    https://shopee.vn//Áo-thun-nam-DÀI-TAY-Cotton-...    shirt  \n",
       "9    https://shopee.vn//Áo-sát-nách-thể-thao-nam-Dr...    shirt  \n",
       "10   https://shopee.vn//Áo-Polo-thể-thao-nam-ProMax...    shirt  \n",
       "..                                                 ...      ...  \n",
       "207  https://shopee.vn//Áo-thun-nam-Cotton-Compact-...    shirt  \n",
       "211  https://shopee.vn//Áo-thun-thể-thao-nam-Recycl...    shirt  \n",
       "212  https://shopee.vn//Áo-Polo-thể-thao-nam-Recycl...    shirt  \n",
       "213  https://shopee.vn//Áo-Polo-thể-thao-nam-Recycl...    shirt  \n",
       "214  https://shopee.vn//Áo-Tank-Top-thể-thao-nam-Re...    shirt  \n",
       "\n",
       "[109 rows x 6 columns]"
      ]
     },
     "execution_count": 63,
     "metadata": {},
     "output_type": "execute_result"
    }
   ],
   "source": [
    "df['category']=df['name'].apply(getCategory)\n",
    "print(df['category'].value_counts().sort_values(ascending=False))\n",
    "df[df['category']=='shirt']"
   ]
  },
  {
   "cell_type": "markdown",
   "id": "61cfbba9",
   "metadata": {},
   "source": [
    "**Data Insight**: As you can see, most of Coolmate's products are shirts or pants. They specifically target young men in vietnam, who value minimalistic or comfort clothes over fashionable one"
   ]
  },
  {
   "cell_type": "markdown",
   "id": "485a6baa",
   "metadata": {},
   "source": [
    "## Get subcategory of product\n",
    "In **'pant' and 'shirt'** categories, we can continue divide product into subcategory for more detail"
   ]
  },
  {
   "cell_type": "code",
   "execution_count": 64,
   "id": "68718d39",
   "metadata": {},
   "outputs": [],
   "source": [
    "def getSubcategory(name):\n",
    "    name=name.lower()\n",
    "    if('áo' in name):\n",
    "        if('áo thun' in name):\n",
    "            return 'tshirt'\n",
    "        elif('sơ mi' in name):\n",
    "            return 'shirt'\n",
    "        elif('polo' in name):\n",
    "            return 'polo'\n",
    "        else:\n",
    "            return 'other'\n",
    "    elif('quần' in name):\n",
    "        if('short' in name or 'shorts' in name):\n",
    "            return 'short'\n",
    "        elif('jogger' in name):\n",
    "            return 'jogger'\n",
    "        elif('quần lót' in name):\n",
    "            return 'underwear'\n",
    "        elif('jean' in name or 'jeans' in name):\n",
    "            return 'jean'\n",
    "        else:\n",
    "            return 'other'\n",
    "    else:\n",
    "        return 'none'\n",
    "\n",
    "df['subcategory']=df['name'].apply(getSubcategory)"
   ]
  },
  {
   "cell_type": "code",
   "execution_count": 65,
   "id": "5ccc7622",
   "metadata": {
    "scrolled": true
   },
   "outputs": [
    {
     "data": {
      "text/plain": [
       "tshirt       84\n",
       "underwear    38\n",
       "none         32\n",
       "short        26\n",
       "other        16\n",
       "polo         12\n",
       "jean          3\n",
       "shirt         3\n",
       "jogger        1\n",
       "Name: subcategory, dtype: int64"
      ]
     },
     "execution_count": 65,
     "metadata": {},
     "output_type": "execute_result"
    }
   ],
   "source": [
    "df['subcategory'].value_counts().sort_values(ascending=False)"
   ]
  },
  {
   "cell_type": "markdown",
   "id": "90b5addb",
   "metadata": {},
   "source": [
    "## Get sale type of product\n",
    "Some products are sold as a bundel (a bundle often includes multiple items with same or different products mixed together and offer a lower price)"
   ]
  },
  {
   "cell_type": "code",
   "execution_count": 66,
   "id": "fe1d2d98",
   "metadata": {},
   "outputs": [],
   "source": [
    "def getSaleType(name):\n",
    "    name=name.lower()\n",
    "    if('combo' in name or 'set' in name):\n",
    "        return 'bundle'\n",
    "    else:\n",
    "        return 'single'\n",
    "df['sale_type']=df['name'].apply(getSaleType)"
   ]
  },
  {
   "cell_type": "code",
   "execution_count": 67,
   "id": "745f25a7",
   "metadata": {
    "scrolled": true
   },
   "outputs": [
    {
     "data": {
      "text/plain": [
       "single    168\n",
       "bundle     47\n",
       "Name: sale_type, dtype: int64"
      ]
     },
     "execution_count": 67,
     "metadata": {},
     "output_type": "execute_result"
    }
   ],
   "source": [
    "df['sale_type'].value_counts().sort_values(ascending=False)"
   ]
  },
  {
   "cell_type": "markdown",
   "id": "c05ca6cb",
   "metadata": {},
   "source": [
    "**Data Insight**: You must be wondering why over a fifth of Coolmate's products are sold as a bunble instead of single item ? Why would they want to sell item as a package but not single for profit ? <br>\n",
    "**Here is my 2 cents**: Trendiness isn't usually something men want when shopping for clothes, so they end up buying only essential items such as shirts,pants,socks,.. with different colors. Bundle sales strategy would be great for Coolmate to offer their products with lower price and increase sales. So it is totally predictable that Coolmate's products are often sold as a bundle"
   ]
  },
  {
   "cell_type": "markdown",
   "id": "b23fb870",
   "metadata": {},
   "source": [
    "## Keep only single price from product"
   ]
  },
  {
   "cell_type": "markdown",
   "id": "1718121a",
   "metadata": {},
   "source": [
    "There are few products that have multiple price tag (seperate by hyphen character) in our data, we only need to keep the lowest price"
   ]
  },
  {
   "cell_type": "code",
   "execution_count": 68,
   "id": "ee633905",
   "metadata": {},
   "outputs": [
    {
     "data": {
      "text/plain": [
       "0          259000\n",
       "1          279000\n",
       "2          299000\n",
       "3    98000-129000\n",
       "4          229000\n",
       "5          119000\n",
       "6          189000\n",
       "7          269000\n",
       "8          199000\n",
       "9          189000\n",
       "Name: money, dtype: object"
      ]
     },
     "execution_count": 68,
     "metadata": {},
     "output_type": "execute_result"
    }
   ],
   "source": [
    "df['money'][:10]"
   ]
  },
  {
   "cell_type": "code",
   "execution_count": 69,
   "id": "6335f09d",
   "metadata": {
    "scrolled": false
   },
   "outputs": [
    {
     "data": {
      "text/plain": [
       "0    259000\n",
       "1    279000\n",
       "2    299000\n",
       "3     98000\n",
       "4    229000\n",
       "5    119000\n",
       "6    189000\n",
       "7    269000\n",
       "8    199000\n",
       "9    189000\n",
       "Name: money, dtype: object"
      ]
     },
     "execution_count": 69,
     "metadata": {},
     "output_type": "execute_result"
    }
   ],
   "source": [
    "def removePrice(price):\n",
    "    price=price.split('-')\n",
    "    return price[0]\n",
    "\n",
    "df['money']=df['money'].apply(removePrice)\n",
    "df['money_discount']=df['money_discount'].apply(removePrice)\n",
    "df['money'][:10]"
   ]
  },
  {
   "cell_type": "code",
   "execution_count": 72,
   "id": "b0b4492e",
   "metadata": {},
   "outputs": [],
   "source": [
    "df.to_csv('cleaned_product.csv',encoding='utf-8-sig')"
   ]
  },
  {
   "cell_type": "markdown",
   "id": "5a790ae2",
   "metadata": {},
   "source": [
    "# Conclusion"
   ]
  },
  {
   "cell_type": "markdown",
   "id": "f7ab2a31",
   "metadata": {},
   "source": [
    "You can see that with only name of product, we can create more useful features for our analysis and reporting process. This is the end of part 1 and I hope you are enjoying it so far, thanks for reading."
   ]
  }
 ],
 "metadata": {
  "kernelspec": {
   "display_name": "Python 3 (ipykernel)",
   "language": "python",
   "name": "python3"
  },
  "language_info": {
   "codemirror_mode": {
    "name": "ipython",
    "version": 3
   },
   "file_extension": ".py",
   "mimetype": "text/x-python",
   "name": "python",
   "nbconvert_exporter": "python",
   "pygments_lexer": "ipython3",
   "version": "3.8.8"
  },
  "toc": {
   "base_numbering": 1,
   "nav_menu": {},
   "number_sections": true,
   "sideBar": true,
   "skip_h1_title": false,
   "title_cell": "Table of Contents",
   "title_sidebar": "Contents",
   "toc_cell": false,
   "toc_position": {},
   "toc_section_display": true,
   "toc_window_display": false
  }
 },
 "nbformat": 4,
 "nbformat_minor": 5
}
