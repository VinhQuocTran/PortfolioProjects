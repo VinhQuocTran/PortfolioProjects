{
 "cells": [
  {
   "cell_type": "markdown",
   "id": "b7cfd544",
   "metadata": {},
   "source": [
    "**Note:** Run this script only when you scrape Coolmate Shopee store"
   ]
  },
  {
   "cell_type": "code",
   "execution_count": 12,
   "id": "0b879236",
   "metadata": {},
   "outputs": [],
   "source": [
    "import seaborn as sns\n",
    "import csv,json,os,statistics,time\n",
    "import datetime as dt\n",
    "import numpy as np\n",
    "import pandas as pd\n",
    "import requests\n",
    "import matplotlib.pyplot as plt\n",
    "import time\n",
    "import re\n",
    "from operator import itemgetter"
   ]
  },
  {
   "cell_type": "code",
   "execution_count": 13,
   "id": "d708e241",
   "metadata": {},
   "outputs": [
    {
     "name": "stdout",
     "output_type": "stream",
     "text": [
      "<class 'pandas.core.frame.DataFrame'>\n",
      "RangeIndex: 214 entries, 0 to 213\n",
      "Data columns (total 5 columns):\n",
      " #   Column          Non-Null Count  Dtype \n",
      "---  ------          --------------  ----- \n",
      " 0   name            214 non-null    object\n",
      " 1   price           214 non-null    int64 \n",
      " 2   discount_price  214 non-null    int64 \n",
      " 3   total_sell      214 non-null    int64 \n",
      " 4   revenue         214 non-null    int64 \n",
      "dtypes: int64(4), object(1)\n",
      "memory usage: 8.5+ KB\n"
     ]
    }
   ],
   "source": [
    "df=pd.read_csv('product.csv')\n",
    "df.info()"
   ]
  },
  {
   "cell_type": "markdown",
   "id": "780e2800",
   "metadata": {},
   "source": [
    "## Get category of product\n",
    "- The Shopee page which I scraped is in vietnamese language, but you don't need to worry about it. I already translated all categories for you in the below section\n",
    "- If you want make sure every product's category is correct, you can get URL of it and check it yourself"
   ]
  },
  {
   "cell_type": "code",
   "execution_count": 14,
   "id": "6deeb441",
   "metadata": {
    "scrolled": true
   },
   "outputs": [],
   "source": [
    "def getCategory(name):\n",
    "    name=name.lower()\n",
    "    if('áo' in name):\n",
    "        return 'shirt'\n",
    "    elif ('quần' in name):\n",
    "        return 'pant'\n",
    "    elif (('mũ' in name) or ('nón' in name)):\n",
    "        return 'hat'\n",
    "    elif (('vớ' in name) or ('tất' in name)):\n",
    "        return 'sock'\n",
    "    else:\n",
    "        return 'other'"
   ]
  },
  {
   "cell_type": "code",
   "execution_count": 15,
   "id": "92331186",
   "metadata": {
    "scrolled": true
   },
   "outputs": [
    {
     "name": "stdout",
     "output_type": "stream",
     "text": [
      "shirt    112\n",
      "pant      73\n",
      "other     13\n",
      "sock      11\n",
      "hat        5\n",
      "Name: category, dtype: int64\n"
     ]
    },
    {
     "data": {
      "text/html": [
       "<div>\n",
       "<style scoped>\n",
       "    .dataframe tbody tr th:only-of-type {\n",
       "        vertical-align: middle;\n",
       "    }\n",
       "\n",
       "    .dataframe tbody tr th {\n",
       "        vertical-align: top;\n",
       "    }\n",
       "\n",
       "    .dataframe thead th {\n",
       "        text-align: right;\n",
       "    }\n",
       "</style>\n",
       "<table border=\"1\" class=\"dataframe\">\n",
       "  <thead>\n",
       "    <tr style=\"text-align: right;\">\n",
       "      <th></th>\n",
       "      <th>name</th>\n",
       "      <th>price</th>\n",
       "      <th>discount_price</th>\n",
       "      <th>total_sell</th>\n",
       "      <th>revenue</th>\n",
       "      <th>category</th>\n",
       "    </tr>\n",
       "  </thead>\n",
       "  <tbody>\n",
       "    <tr>\n",
       "      <th>0</th>\n",
       "      <td>Áo thun nam Cotton Compact phiên bản Premium c...</td>\n",
       "      <td>259000</td>\n",
       "      <td>239000</td>\n",
       "      <td>46200</td>\n",
       "      <td>11965800000</td>\n",
       "      <td>shirt</td>\n",
       "    </tr>\n",
       "    <tr>\n",
       "      <th>6</th>\n",
       "      <td>Áo thun nam 100% Cotton USA Coolmate Basics th...</td>\n",
       "      <td>105000</td>\n",
       "      <td>105000</td>\n",
       "      <td>38100</td>\n",
       "      <td>4000500000</td>\n",
       "      <td>shirt</td>\n",
       "    </tr>\n",
       "    <tr>\n",
       "      <th>8</th>\n",
       "      <td>Áo thun nam DÀI TAY Cotton Compact Premium chố...</td>\n",
       "      <td>179000</td>\n",
       "      <td>179000</td>\n",
       "      <td>15500</td>\n",
       "      <td>2774500000</td>\n",
       "      <td>shirt</td>\n",
       "    </tr>\n",
       "    <tr>\n",
       "      <th>10</th>\n",
       "      <td>Áo sát nách thể thao nam Dri-Breathe thoáng má...</td>\n",
       "      <td>189000</td>\n",
       "      <td>179000</td>\n",
       "      <td>6700</td>\n",
       "      <td>1266300000</td>\n",
       "      <td>shirt</td>\n",
       "    </tr>\n",
       "    <tr>\n",
       "      <th>11</th>\n",
       "      <td>Áo Polo thể thao nam ProMax-S1 Logo thương hiệ...</td>\n",
       "      <td>159000</td>\n",
       "      <td>159000</td>\n",
       "      <td>24000</td>\n",
       "      <td>3816000000</td>\n",
       "      <td>shirt</td>\n",
       "    </tr>\n",
       "    <tr>\n",
       "      <th>...</th>\n",
       "      <td>...</td>\n",
       "      <td>...</td>\n",
       "      <td>...</td>\n",
       "      <td>...</td>\n",
       "      <td>...</td>\n",
       "      <td>...</td>\n",
       "    </tr>\n",
       "    <tr>\n",
       "      <th>209</th>\n",
       "      <td>Proudly | Áo thun Cotton Compact \"See me: Spin...</td>\n",
       "      <td>269000</td>\n",
       "      <td>269000</td>\n",
       "      <td>0</td>\n",
       "      <td>0</td>\n",
       "      <td>shirt</td>\n",
       "    </tr>\n",
       "    <tr>\n",
       "      <th>210</th>\n",
       "      <td>Áo thun Printed Venom V2 - thương hiệu Coolmate</td>\n",
       "      <td>299000</td>\n",
       "      <td>299000</td>\n",
       "      <td>0</td>\n",
       "      <td>0</td>\n",
       "      <td>shirt</td>\n",
       "    </tr>\n",
       "    <tr>\n",
       "      <th>211</th>\n",
       "      <td>Áo khoác nỉ nam For Winter (có mũ trùm tiện lợ...</td>\n",
       "      <td>499000</td>\n",
       "      <td>499000</td>\n",
       "      <td>1</td>\n",
       "      <td>499000</td>\n",
       "      <td>shirt</td>\n",
       "    </tr>\n",
       "    <tr>\n",
       "      <th>212</th>\n",
       "      <td>Áo ba lỗ Cotton 100% Coolmate Basics V2 màu XA...</td>\n",
       "      <td>89000</td>\n",
       "      <td>89000</td>\n",
       "      <td>0</td>\n",
       "      <td>0</td>\n",
       "      <td>shirt</td>\n",
       "    </tr>\n",
       "    <tr>\n",
       "      <th>213</th>\n",
       "      <td>Áo thun Cotton Compact in WE ARE SO COOL - thư...</td>\n",
       "      <td>289000</td>\n",
       "      <td>289000</td>\n",
       "      <td>0</td>\n",
       "      <td>0</td>\n",
       "      <td>shirt</td>\n",
       "    </tr>\n",
       "  </tbody>\n",
       "</table>\n",
       "<p>112 rows × 6 columns</p>\n",
       "</div>"
      ],
      "text/plain": [
       "                                                  name   price  \\\n",
       "0    Áo thun nam Cotton Compact phiên bản Premium c...  259000   \n",
       "6    Áo thun nam 100% Cotton USA Coolmate Basics th...  105000   \n",
       "8    Áo thun nam DÀI TAY Cotton Compact Premium chố...  179000   \n",
       "10   Áo sát nách thể thao nam Dri-Breathe thoáng má...  189000   \n",
       "11   Áo Polo thể thao nam ProMax-S1 Logo thương hiệ...  159000   \n",
       "..                                                 ...     ...   \n",
       "209  Proudly | Áo thun Cotton Compact \"See me: Spin...  269000   \n",
       "210    Áo thun Printed Venom V2 - thương hiệu Coolmate  299000   \n",
       "211  Áo khoác nỉ nam For Winter (có mũ trùm tiện lợ...  499000   \n",
       "212  Áo ba lỗ Cotton 100% Coolmate Basics V2 màu XA...   89000   \n",
       "213  Áo thun Cotton Compact in WE ARE SO COOL - thư...  289000   \n",
       "\n",
       "     discount_price  total_sell      revenue category  \n",
       "0            239000       46200  11965800000    shirt  \n",
       "6            105000       38100   4000500000    shirt  \n",
       "8            179000       15500   2774500000    shirt  \n",
       "10           179000        6700   1266300000    shirt  \n",
       "11           159000       24000   3816000000    shirt  \n",
       "..              ...         ...          ...      ...  \n",
       "209          269000           0            0    shirt  \n",
       "210          299000           0            0    shirt  \n",
       "211          499000           1       499000    shirt  \n",
       "212           89000           0            0    shirt  \n",
       "213          289000           0            0    shirt  \n",
       "\n",
       "[112 rows x 6 columns]"
      ]
     },
     "execution_count": 15,
     "metadata": {},
     "output_type": "execute_result"
    }
   ],
   "source": [
    "df['category']=df['name'].apply(getCategory)\n",
    "print(df['category'].value_counts().sort_values(ascending=False))\n",
    "df[df['category']=='shirt']"
   ]
  },
  {
   "cell_type": "markdown",
   "id": "61cfbba9",
   "metadata": {},
   "source": [
    "**Data Insight**: As you can see, most of Coolmate's products are shirts or pants. They specifically target young men in vietnam, who value minimalistic or comfort clothes over fashionable one"
   ]
  },
  {
   "cell_type": "markdown",
   "id": "485a6baa",
   "metadata": {},
   "source": [
    "## Get subcategory of product\n",
    "In **'pant' and 'shirt'** categories, we can continue divide product into subcategory for more detail"
   ]
  },
  {
   "cell_type": "code",
   "execution_count": 16,
   "id": "68718d39",
   "metadata": {},
   "outputs": [],
   "source": [
    "def getSubcategory(name):\n",
    "    name=name.lower()\n",
    "    if('áo' in name):\n",
    "        if('áo thun' in name):\n",
    "            return 'tshirt'\n",
    "        elif('sơ mi' in name):\n",
    "            return 'shirt'\n",
    "        elif('polo' in name):\n",
    "            return 'polo'\n",
    "        else:\n",
    "            return 'other'\n",
    "    elif('quần' in name):\n",
    "        if('short' in name or 'shorts' in name):\n",
    "            return 'short'\n",
    "        elif('jogger' in name):\n",
    "            return 'jogger'\n",
    "        elif('quần lót' in name):\n",
    "            return 'underwear'\n",
    "        elif('jean' in name or 'jeans' in name):\n",
    "            return 'jean'\n",
    "        else:\n",
    "            return 'other'\n",
    "    else:\n",
    "        return 'none'\n",
    "\n",
    "df['subcategory']=df['name'].apply(getSubcategory)"
   ]
  },
  {
   "cell_type": "code",
   "execution_count": 17,
   "id": "5ccc7622",
   "metadata": {
    "scrolled": true
   },
   "outputs": [
    {
     "data": {
      "text/plain": [
       "tshirt       82\n",
       "underwear    35\n",
       "none         29\n",
       "short        26\n",
       "other        20\n",
       "polo         15\n",
       "jean          3\n",
       "jogger        2\n",
       "shirt         2\n",
       "Name: subcategory, dtype: int64"
      ]
     },
     "execution_count": 17,
     "metadata": {},
     "output_type": "execute_result"
    }
   ],
   "source": [
    "df['subcategory'].value_counts().sort_values(ascending=False)"
   ]
  },
  {
   "cell_type": "markdown",
   "id": "90b5addb",
   "metadata": {},
   "source": [
    "## Get sale type of product\n",
    "Some products are sold as a bundel (a bundle often includes multiple items with same or different products mixed together and offer a lower price)"
   ]
  },
  {
   "cell_type": "code",
   "execution_count": 18,
   "id": "fe1d2d98",
   "metadata": {},
   "outputs": [],
   "source": [
    "def getSaleType(name):\n",
    "    name=name.lower()\n",
    "    if('combo' in name or 'set' in name):\n",
    "        return 'bundle'\n",
    "    else:\n",
    "        return 'single'\n",
    "df['sale_type']=df['name'].apply(getSaleType)"
   ]
  },
  {
   "cell_type": "code",
   "execution_count": 19,
   "id": "745f25a7",
   "metadata": {
    "scrolled": true
   },
   "outputs": [
    {
     "data": {
      "text/plain": [
       "single    171\n",
       "bundle     43\n",
       "Name: sale_type, dtype: int64"
      ]
     },
     "execution_count": 19,
     "metadata": {},
     "output_type": "execute_result"
    }
   ],
   "source": [
    "df['sale_type'].value_counts().sort_values(ascending=False)"
   ]
  },
  {
   "cell_type": "markdown",
   "id": "c05ca6cb",
   "metadata": {},
   "source": [
    "**Data Insight**: You must be wondering why over a fifth of Coolmate's products are sold as a bunble instead of single item ? Why would they want to sell item as a package but not single for profit ? <br>\n",
    "**Here is my 2 cents**: Trendiness isn't usually something men want when shopping for clothes, so they end up buying only essential items such as shirts,pants,socks,.. with different colors. Bundle sales strategy would be great for Coolmate to offer their products with lower price and increase sales. So it is totally predictable that Coolmate's products are often sold as a bundle"
   ]
  },
  {
   "cell_type": "code",
   "execution_count": 20,
   "id": "b0b4492e",
   "metadata": {},
   "outputs": [],
   "source": [
    "df.to_csv('cleaned_product.csv',encoding='utf-8-sig')"
   ]
  },
  {
   "cell_type": "markdown",
   "id": "5a790ae2",
   "metadata": {},
   "source": [
    "# Conclusion"
   ]
  },
  {
   "cell_type": "markdown",
   "id": "f7ab2a31",
   "metadata": {},
   "source": [
    "You can see that with only name of product, we can create more useful features for our analysis and reporting process. This is the end of part 1 and I hope you are enjoying it so far, thanks for reading."
   ]
  }
 ],
 "metadata": {
  "kernelspec": {
   "display_name": "Python 3",
   "language": "python",
   "name": "python3"
  },
  "language_info": {
   "codemirror_mode": {
    "name": "ipython",
    "version": 3
   },
   "file_extension": ".py",
   "mimetype": "text/x-python",
   "name": "python",
   "nbconvert_exporter": "python",
   "pygments_lexer": "ipython3",
   "version": "3.9.7"
  },
  "toc": {
   "base_numbering": 1,
   "nav_menu": {},
   "number_sections": true,
   "sideBar": true,
   "skip_h1_title": false,
   "title_cell": "Table of Contents",
   "title_sidebar": "Contents",
   "toc_cell": false,
   "toc_position": {},
   "toc_section_display": true,
   "toc_window_display": false
  }
 },
 "nbformat": 4,
 "nbformat_minor": 5
}
